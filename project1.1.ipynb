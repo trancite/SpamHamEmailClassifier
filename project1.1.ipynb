{
 "cells": [
  {
   "cell_type": "markdown",
   "id": "5d991729-f16b-4366-8632-a9912aa0e9cb",
   "metadata": {},
   "source": [
    "# Email Classification: Spam vs. Ham with Various Preprocessing Techniques\n"
   ]
  },
  {
   "cell_type": "markdown",
   "id": "006cc0e6-e0eb-480f-b94b-703274858744",
   "metadata": {},
   "source": [
    "**Data Preparation**"
   ]
  },
  {
   "cell_type": "markdown",
   "id": "c0f673d5-a633-492e-b5dd-47d97c9efc7b",
   "metadata": {},
   "source": [
    "I downloaded the data from the following links: [Spam Email Dataset](https://www.kaggle.com/datasets/jackksoncsie/spam-email-dataset) and [Spam Mails Dataset](https://www.kaggle.com/datasets/venky73/spam-mails-dataset).\n"
   ]
  },
  {
   "cell_type": "markdown",
   "id": "14c8bd6d-e9ea-4eb9-bad9-7556fa60a8e7",
   "metadata": {},
   "source": [
    "We will begin by inspecting the dataset and removing duplicate values and any NaN entries. The *dropna* function delets all the NAN values (not a number) from the dataframe."
   ]
  },
  {
   "cell_type": "code",
   "execution_count": 18,
   "id": "280097a6-b2e3-4e83-b0de-72004db3aa13",
   "metadata": {},
   "outputs": [
    {
     "name": "stdout",
     "output_type": "stream",
     "text": [
      "5695\n",
      "There were 33 \"corrupted\" rows\n"
     ]
    }
   ],
   "source": [
    "import pandas as pd\n",
    "import numpy as np\n",
    "\n",
    "df = pd.read_csv(\"/home/trancite/Desktop/Spam/archive/emails.csv\")\n",
    "original_len = len(df)\n",
    "df = df.dropna()\n",
    "df = df.drop_duplicates()\n",
    "print(len(df))\n",
    "end_len = len(df)\n",
    "\n",
    "print(f'There were {original_len-end_len} \"corrupted\" rows')"
   ]
  },
  {
   "cell_type": "code",
   "execution_count": 2,
   "id": "a40b6bee-606b-451d-8c54-56171b4d78c0",
   "metadata": {},
   "outputs": [],
   "source": [
    "# Class for cleaning text\n",
    "import re\n",
    "import string\n",
    "import unicodedata\n",
    "from nltk.corpus import stopwords\n",
    "from nltk.stem import PorterStemmer\n",
    "\n",
    "class TextCleaner:\n",
    "    def __init__(self):\n",
    "        # Initialize stopwords and stemmer\n",
    "        self.stop_words = set(stopwords.words('english'))  # Set of common English stop words to be removed\n",
    "        self.stemmer = PorterStemmer()  # Stemmer to reduce words to their root form\n",
    "\n",
    "    def clean(self, text):\n",
    "        # Convert text to lowercase to ensure uniformity\n",
    "        text = text.lower()\n",
    "        \n",
    "        # Normalize text to ensure consistent character representation\n",
    "        text = unicodedata.normalize('NFKD', text)\n",
    "        \n",
    "        # Replace multiple whitespace characters with a single space\n",
    "        text = re.sub(r'\\s+', ' ', text)\n",
    "        \n",
    "        # Replace URLs with the placeholder 'U'\n",
    "        text = re.sub(r'http[s]?://\\S+', ' U ', text)\n",
    "        \n",
    "        # Remove HTML tags from the text\n",
    "        text = re.sub(r'<[^>]+>', '', text)\n",
    "        \n",
    "        # Replace numerical digits with the placeholder 'DIG'\n",
    "        text = re.sub(r'\\d+', ' DIG ', text)\n",
    "        \n",
    "        # Remove punctuation characters\n",
    "        text = text.translate(str.maketrans('', '', string.punctuation))\n",
    "        \n",
    "        # Remove stop words from the text\n",
    "        text = ' '.join(word for word in text.split() if word not in self.stop_words)\n",
    "        \n",
    "        # Apply stemming to reduce words to their root form\n",
    "        text = ' '.join(self.stemmer.stem(word) for word in text.split())\n",
    "        \n",
    "        return text\n",
    "\n",
    "#auxiliar function for removing the firs word. It is not included in the TextCleaner class because some raw text might not need it\n",
    "def remove_first_word(text):\n",
    "        # Split text into words and remove the first word\n",
    "        words = text.split()\n",
    "        if len(words) > 1:\n",
    "            return ' '.join(words[1:])\n",
    "        return ''  # Return empty string if there's only one word"
   ]
  },
  {
   "cell_type": "markdown",
   "id": "2c684e47-51ca-4cbe-bd39-7dc0a5edc53e",
   "metadata": {},
   "source": [
    "**Brief Statistical Analysis**"
   ]
  },
  {
   "cell_type": "markdown",
   "id": "869fde59-c704-488a-bfdf-27a6b5d6b67f",
   "metadata": {},
   "source": [
    "Next, we will count the number of instances for each label."
   ]
  },
  {
   "cell_type": "code",
   "execution_count": 3,
   "id": "04debe09-f079-4a1e-bbd1-f94221af2377",
   "metadata": {},
   "outputs": [
    {
     "name": "stdout",
     "output_type": "stream",
     "text": [
      "      text\n",
      "spam      \n",
      "0     4327\n",
      "1     1368\n"
     ]
    }
   ],
   "source": [
    "spam_instances = df.groupby(['spam']).count()\n",
    "print(spam_instances)\n"
   ]
  },
  {
   "cell_type": "markdown",
   "id": "5aa3247d-8e82-4546-87fa-422591d95987",
   "metadata": {},
   "source": [
    "It is clearly an imbalanced dataset"
   ]
  },
  {
   "cell_type": "code",
   "execution_count": 4,
   "id": "aeaa3082-5cf0-4371-a66b-3c5118e19f38",
   "metadata": {},
   "outputs": [
    {
     "name": "stdout",
     "output_type": "stream",
     "text": [
      "The 24.021071115013168% of the instances are spam\n"
     ]
    }
   ],
   "source": [
    "print(f'The {1368*100/(4327+1368)}% of the instances are spam')"
   ]
  },
  {
   "cell_type": "markdown",
   "id": "6e66203b-401d-4979-8cb3-59b22ad3b276",
   "metadata": {},
   "source": [
    "Let's visualize this difference using a graph."
   ]
  },
  {
   "cell_type": "code",
   "execution_count": 5,
   "id": "34441e03-2941-4ec5-a548-bd225948d652",
   "metadata": {},
   "outputs": [
    {
     "data": {
      "image/png": "[encoded data removed]",
      "text/plain": [
       "<Figure size 640x480 with 1 Axes>"
      ]
     },
     "metadata": {},
     "output_type": "display_data"
    }
   ],
   "source": [
    "import matplotlib.pyplot as plt\n",
    "class_counts = df['spam'].value_counts()\n",
    "\n",
    "class_counts.plot(kind='bar')\n",
    "plt.title('Distribution of Class Instances')\n",
    "plt.xlabel('Class')\n",
    "plt.ylabel('Frequency')\n",
    "plt.show()"
   ]
  },
  {
   "cell_type": "markdown",
   "id": "aef79d20-3ec1-4a50-9925-63d13367f005",
   "metadata": {},
   "source": [
    "We will create a baseline model that assumes every instance belongs to the \"ham\" class and assess its performance. This will provide insight into the expected performance of our final model.\n",
    "\n"
   ]
  },
  {
   "cell_type": "code",
   "execution_count": 6,
   "id": "d296e6a9-4d8e-402a-b4bf-01872401aedf",
   "metadata": {},
   "outputs": [
    {
     "name": "stdout",
     "output_type": "stream",
     "text": [
      "This model will have an accuracy of 0.7597892888498683, so we need to improve this apparently good score\n"
     ]
    }
   ],
   "source": [
    "def silly_model(whatever):\n",
    "    return 0\n",
    "\n",
    "print(f'This model will have an accuracy of {4327/(4327+1368)}, so we need to improve this apparently good score')"
   ]
  },
  {
   "cell_type": "markdown",
   "id": "d7a2bded-f425-48f6-b44c-559a1e1daae0",
   "metadata": {},
   "source": [
    "We will evaluate additional metrics for this model. If they result in lower values, they will provide useful insights."
   ]
  },
  {
   "cell_type": "code",
   "execution_count": 7,
   "id": "5dba48c1-504f-45c8-bfaa-fba89705cf67",
   "metadata": {},
   "outputs": [
    {
     "name": "stdout",
     "output_type": "stream",
     "text": [
      "              precision    recall  f1-score   support\n",
      "\n",
      "           0       0.76      1.00      0.86      4327\n",
      "           1       0.00      0.00      0.00      1368\n",
      "\n",
      "    accuracy                           0.76      5695\n",
      "   macro avg       0.38      0.50      0.43      5695\n",
      "weighted avg       0.58      0.76      0.66      5695\n",
      "\n"
     ]
    }
   ],
   "source": [
    "from sklearn.metrics import accuracy_score, classification_report, log_loss, roc_auc_score, f1_score, confusion_matrix\n",
    "y = np.array(df['spam']).astype(int)\n",
    "silly_predictions = np.full(np.shape(y), 0)\n",
    "print(classification_report(y, silly_predictions, zero_division=0))\n"
   ]
  },
  {
   "cell_type": "markdown",
   "id": "aca27067-7fae-4b34-bae1-db2ab38f6396",
   "metadata": {},
   "source": [
    "All of them in the 1 label are 0, and the other ones are not too good. This tell us that we need to improve all this scores."
   ]
  },
  {
   "cell_type": "markdown",
   "id": "3c004454-a833-4676-a5f8-24b730500352",
   "metadata": {},
   "source": [
    "We will display a matrix and a visualization representing the silly model's performance. The matrix, called the confusion matrix, shows the true labels as rows and the predicted labels as columns.\n"
   ]
  },
  {
   "cell_type": "code",
   "execution_count": 8,
   "id": "89b18b28-9a60-405f-85bc-0133a39a63cf",
   "metadata": {},
   "outputs": [
    {
     "name": "stdout",
     "output_type": "stream",
     "text": [
      "Confusion Matrix:\n",
      "[[4327    0]\n",
      " [1368    0]]\n",
      "\n",
      "\n",
      "\n"
     ]
    },
    {
     "data": {
      "image/png": "[encoded data removed]",
      "text/plain": [
       "<Figure size 800x600 with 2 Axes>"
      ]
     },
     "metadata": {},
     "output_type": "display_data"
    }
   ],
   "source": [
    "from sklearn.metrics import confusion_matrix\n",
    "import matplotlib as mpl\n",
    "import matplotlib.pyplot as plt\n",
    "import numpy as np\n",
    "\n",
    "# Calculate the confusion matrix\n",
    "conf_matrix = confusion_matrix(y, silly_predictions)\n",
    "\n",
    "# Print the confusion matrix\n",
    "print(\"Confusion Matrix:\")\n",
    "print(conf_matrix)\n",
    "print(\"\\n\\n\")\n",
    "# Normalize the confusion matrix\n",
    "conf_matrix = conf_matrix.astype(float)\n",
    "row_sums = np.maximum(conf_matrix.sum(axis=1), 1)\n",
    "conf_matrix /= row_sums[:, np.newaxis]\n",
    "\n",
    "# Show the normalized confusion matrix\n",
    "plt.figure(figsize=(8, 6))\n",
    "plt.imshow(conf_matrix, cmap='Blues', interpolation='nearest')  \n",
    "plt.title('Confusion Matrix')\n",
    "plt.colorbar()  \n",
    "plt.xlabel('Predicted labels')\n",
    "plt.ylabel('True labels')\n",
    "plt.xticks(ticks=[0, 1], labels=['Ham', 'Spam']) \n",
    "plt.yticks(ticks=[0, 1], labels=['Ham', 'Spam'])  \n",
    "plt.show()\n"
   ]
  },
  {
   "cell_type": "markdown",
   "id": "726b02a6-dd77-4b4a-b45b-1f6a25688ee9",
   "metadata": {},
   "source": [
    "This matrix tells us that we correctly associated 4,327 samples with label 0 (no spam) and mislabeled the other 1,368."
   ]
  },
  {
   "cell_type": "markdown",
   "id": "e2277ea0-c919-4a3b-8cf0-ff8353dae34a",
   "metadata": {},
   "source": [
    "Now we clean all the text emails, this can take some time"
   ]
  },
  {
   "cell_type": "code",
   "execution_count": 20,
   "id": "02188480-3209-4262-b616-b33863b91293",
   "metadata": {},
   "outputs": [],
   "source": [
    "# Remove the first word (Subject:) from each email text\n",
    "df['text'] = df['text'].apply(remove_first_word)\n",
    "\n",
    "# Initialize the TextCleaner object for text preprocessing\n",
    "cleaner = TextCleaner()\n",
    "\n",
    "# Apply the text cleaning process to each email and save the processed texts in a new column\n",
    "df['cleaned_mails'] = df['text'].apply(cleaner.clean)"
   ]
  },
  {
   "cell_type": "markdown",
   "id": "7891dc2e-b3ef-4d0f-bd5a-36aea9360e07",
   "metadata": {},
   "source": [
    "Ensure the changes have done their job"
   ]
  },
  {
   "cell_type": "code",
   "execution_count": 10,
   "id": "4bfc5983-973f-430d-9b22-0f44bba388c6",
   "metadata": {},
   "outputs": [
    {
     "data": {
      "text/html": [
       "<div>\n",
       "<style scoped>\n",
       "    .dataframe tbody tr th:only-of-type {\n",
       "        vertical-align: middle;\n",
       "    }\n",
       "\n",
       "    .dataframe tbody tr th {\n",
       "        vertical-align: top;\n",
       "    }\n",
       "\n",
       "    .dataframe thead th {\n",
       "        text-align: right;\n",
       "    }\n",
       "</style>\n",
       "<table border=\"1\" class=\"dataframe\">\n",
       "  <thead>\n",
       "    <tr style=\"text-align: right;\">\n",
       "      <th></th>\n",
       "      <th>text</th>\n",
       "      <th>spam</th>\n",
       "      <th>cleaned_mails</th>\n",
       "    </tr>\n",
       "  </thead>\n",
       "  <tbody>\n",
       "    <tr>\n",
       "      <th>0</th>\n",
       "      <td>naturally irresistible your corporate identity...</td>\n",
       "      <td>1</td>\n",
       "      <td>natur irresist corpor ident lt realli hard rec...</td>\n",
       "    </tr>\n",
       "    <tr>\n",
       "      <th>1</th>\n",
       "      <td>the stock trading gunslinger fanny is merrill ...</td>\n",
       "      <td>1</td>\n",
       "      <td>stock trade gunsling fanni merril muzo colza a...</td>\n",
       "    </tr>\n",
       "    <tr>\n",
       "      <th>2</th>\n",
       "      <td>unbelievable new homes made easy im wanting to...</td>\n",
       "      <td>1</td>\n",
       "      <td>unbeliev new home made easi im want show homeo...</td>\n",
       "    </tr>\n",
       "    <tr>\n",
       "      <th>3</th>\n",
       "      <td>4 color printing special request additional in...</td>\n",
       "      <td>1</td>\n",
       "      <td>dig color print special request addit inform c...</td>\n",
       "    </tr>\n",
       "    <tr>\n",
       "      <th>4</th>\n",
       "      <td>do not have money , get software cds from here...</td>\n",
       "      <td>1</td>\n",
       "      <td>money get softwar cd softwar compat great grow...</td>\n",
       "    </tr>\n",
       "  </tbody>\n",
       "</table>\n",
       "</div>"
      ],
      "text/plain": [
       "                                                text  spam  \\\n",
       "0  naturally irresistible your corporate identity...     1   \n",
       "1  the stock trading gunslinger fanny is merrill ...     1   \n",
       "2  unbelievable new homes made easy im wanting to...     1   \n",
       "3  4 color printing special request additional in...     1   \n",
       "4  do not have money , get software cds from here...     1   \n",
       "\n",
       "                                       cleaned_mails  \n",
       "0  natur irresist corpor ident lt realli hard rec...  \n",
       "1  stock trade gunsling fanni merril muzo colza a...  \n",
       "2  unbeliev new home made easi im want show homeo...  \n",
       "3  dig color print special request addit inform c...  \n",
       "4  money get softwar cd softwar compat great grow...  "
      ]
     },
     "execution_count": 10,
     "metadata": {},
     "output_type": "execute_result"
    }
   ],
   "source": [
    "df.head()"
   ]
  },
  {
   "cell_type": "markdown",
   "id": "5566d54a-dc47-48aa-a605-360759a588ad",
   "metadata": {},
   "source": [
    "**Clustering Analysis: Unsupervised Learning**"
   ]
  },
  {
   "cell_type": "markdown",
   "id": "55271eb1-a793-4c11-b217-83cf5a433ebe",
   "metadata": {},
   "source": [
    "In this section, we use clusters to divide the set into subsets and see if they correspond in some way to the spam vs. ham classification. The interesting thing about clusters is that they create subsets without looking at the labels; they only deduce possible clusters from the data (in this case, the texts themselves)"
   ]
  },
  {
   "cell_type": "markdown",
   "id": "0501679f-7183-4931-8a5b-e3b556bd73b0",
   "metadata": {},
   "source": [
    "First, we load the tools needed for text preprocessing. Each tool employs a different approach, ranging from tokenizing text based on certain lengths to using hash functions.\n"
   ]
  },
  {
   "cell_type": "code",
   "execution_count": 11,
   "id": "708065c1-8fff-4bac-81f9-acaa0f35f19c",
   "metadata": {},
   "outputs": [],
   "source": [
    "from sklearn.feature_extraction.text import CountVectorizer, TfidfTransformer, TfidfVectorizer, HashingVectorizer\n",
    "from sklearn.pipeline import Pipeline\n",
    "from sklearn.model_selection import GridSearchCV\n",
    "from sklearn.metrics import make_scorer, silhouette_score\n",
    "\n",
    "# Initialize the text preprocessing tools with specific parameters to ensure efficiency\n",
    "tfidf_vectorizer = TfidfVectorizer(max_features=1000, min_df=5, max_df=0.8)\n",
    "count_vectorizer = CountVectorizer(max_features=1000, ngram_range=(1, 3), min_df=3)\n",
    "hashing_vectorizer = HashingVectorizer(n_features=1000)\n",
    "\n"
   ]
  },
  {
   "cell_type": "markdown",
   "id": "0b21fc6f-ba75-499b-abeb-c94253892b9f",
   "metadata": {},
   "source": [
    "Here, we define a function that takes a preprocessing tool as an argument and displays a graph of its performance. We will use the Silhouette metric, which is commonly used in this context. Other metrics, such as inertia, typically do not perform as well as Silhouette. With this metric we try to know how adequated are the clusters created by the algorithm. A low value will indicate that the algorithm is not 'confident'. (The actual computation of this metric is beyond the scope of this paper.)\n"
   ]
  },
  {
   "cell_type": "code",
   "execution_count": 12,
   "id": "c3482a3e-5bbc-402b-a29b-a241471c0bbf",
   "metadata": {},
   "outputs": [],
   "source": [
    "from sklearn.cluster import KMeans\n",
    "def performance_cluster(text_tool):\n",
    "    \n",
    "    # Transform the cleaned emails using the provided text preprocessing tool\n",
    "    X_for_performance = text_tool.fit_transform(df['cleaned_mails'])\n",
    "    \n",
    "    points_X = []  # List to store the number of clusters\n",
    "    points_Y = []  # List to store the corresponding silhouette scores\n",
    "    \n",
    "    # Evaluate KMeans clustering performance for a range of cluster numbers\n",
    "    for n in range(2, 20):\n",
    "        kmeans = KMeans(n_clusters=n)  # Initialize the KMeans model with n clusters\n",
    "        kmeans.fit_predict(X_for_performance)  # Fit the model to the data; no data leakage as KMeans is unsupervised\n",
    "        # Compute the silhouette score for the current clustering and store it\n",
    "        points_Y.append(silhouette_score(X_for_performance, kmeans.labels_))\n",
    "        points_X.append(n)\n",
    "    \n",
    "    plt.plot(points_X, points_Y, marker='o')  \n",
    "    plt.title(\"Silhouette Score vs Number of Clusters\")  \n",
    "    plt.xlabel(\"Number of Clusters\") \n",
    "    plt.ylabel(\"Silhouette Score\")  \n",
    "    plt.grid(True)  \n",
    "    plt.show()\n",
    "\n",
    "\n"
   ]
  },
  {
   "cell_type": "markdown",
   "id": "364b2cbc-860f-4a8c-aaaf-b0bfaf2be56a",
   "metadata": {},
   "source": [
    "Note: This function runs the KMeans algorithm 18 times (once for each cluster count).\n",
    "By default in scikit-learn, KMeans runs the algorithm 10 times with different centroid initializations to ensure that the result is not dependent on the initial placement of centroids. \n",
    "This may result in a longer runtime due to repeated fitting of the model."
   ]
  },
  {
   "cell_type": "code",
   "execution_count": 13,
   "id": "dadca2d0-bebe-4fab-80b5-b394f0f57268",
   "metadata": {},
   "outputs": [
    {
     "data": {
      "image/png": "[encoded data removed]",
      "text/plain": [
       "<Figure size 640x480 with 1 Axes>"
      ]
     },
     "metadata": {},
     "output_type": "display_data"
    }
   ],
   "source": [
    "#Graph of tfidf_vectorizer tool\n",
    "performance_cluster(tfidf_vectorizer)"
   ]
  },
  {
   "cell_type": "markdown",
   "id": "5295ba51-cb88-4d1b-a8cf-5b4c7e0be839",
   "metadata": {},
   "source": [
    "Although it is clear that there is an unexpected peak at 18 clusters, the values on the y-axis are extremely low. This indicates that these clusters do not fit well with the dataset."
   ]
  },
  {
   "cell_type": "code",
   "execution_count": 14,
   "id": "49dfcd85-4876-43ab-9f74-9716b3377ecf",
   "metadata": {
    "scrolled": true
   },
   "outputs": [
    {
     "data": {
      "image/png": "[encoded data removed]",
      "text/plain": [
       "<Figure size 640x480 with 1 Axes>"
      ]
     },
     "metadata": {},
     "output_type": "display_data"
    }
   ],
   "source": [
    "#Graph of count_vectorizer tool\n",
    "performance_cluster(count_vectorizer)"
   ]
  },
  {
   "cell_type": "markdown",
   "id": "56066d9d-75af-4310-a782-6c4a7b86c95c",
   "metadata": {},
   "source": [
    "The high peak at two clusters seems suspicious. We will analyze it further in the following cells.\n"
   ]
  },
  {
   "cell_type": "code",
   "execution_count": 15,
   "id": "f9bc6974-4fdc-45dd-9052-4efcc71aa47b",
   "metadata": {},
   "outputs": [
    {
     "data": {
      "image/png": "[encoded data removed]",
      "text/plain": [
       "<Figure size 640x480 with 1 Axes>"
      ]
     },
     "metadata": {},
     "output_type": "display_data"
    }
   ],
   "source": [
    "#Graph of hashing_vectorizer tool\n",
    "performance_cluster(hashing_vectorizer)"
   ]
  },
  {
   "cell_type": "markdown",
   "id": "55707411-4c0e-4251-a2a4-0378c47718c9",
   "metadata": {},
   "source": [
    "This one apparently achieves a good performance (lower than the previous one) at two clusters. "
   ]
  },
  {
   "cell_type": "markdown",
   "id": "c22dd70d-6a8c-446f-bac2-a7d9e1c417ef",
   "metadata": {},
   "source": [
    "The tfidf_vectorizer performed terribly; we will not consider it for this process."
   ]
  },
  {
   "cell_type": "markdown",
   "id": "24aaba26-625e-40df-b0d5-d6367c2edb25",
   "metadata": {},
   "source": [
    "Let's see how the other methods performed compared to the actual Spam-Ham labels.\n"
   ]
  },
  {
   "cell_type": "markdown",
   "id": "17e06153-b092-4231-beff-53d82ed77f08",
   "metadata": {},
   "source": [
    "**Count_vectorizer**"
   ]
  },
  {
   "cell_type": "code",
   "execution_count": 16,
   "id": "abbae052-1838-49bf-9b75-9623f0cc8b1e",
   "metadata": {},
   "outputs": [],
   "source": [
    "# Store the corresponding labels for X in the variable Y\n",
    "Y = np.array(df['spam']).astype(int)"
   ]
  },
  {
   "cell_type": "code",
   "execution_count": 21,
   "id": "d131b910-9ab7-4352-bd49-999059c7e72c",
   "metadata": {
    "scrolled": true
   },
   "outputs": [
    {
     "name": "stdout",
     "output_type": "stream",
     "text": [
      "Count Vectorizer\n",
      "              precision    recall  f1-score   support\n",
      "\n",
      "           0       0.78      0.08      0.14      4327\n",
      "           1       0.24      0.93      0.38      1368\n",
      "\n",
      "    accuracy                           0.28      5695\n",
      "   macro avg       0.51      0.50      0.26      5695\n",
      "weighted avg       0.65      0.28      0.20      5695\n",
      "\n"
     ]
    }
   ],
   "source": [
    "#count_vectorizer\n",
    "print(\"Count Vectorizer\")\n",
    "X_count = count_vectorizer.fit_transform(df['cleaned_mails'])\n",
    "kmeans = KMeans(n_clusters=2)\n",
    "y_pred_vect = kmeans.fit_predict(X_count)\n",
    "print(classification_report(Y, y_pred_vect))\n",
    "\n",
    "\n"
   ]
  },
  {
   "cell_type": "markdown",
   "id": "c12abefa-3a23-4381-a558-40b3f4a3ff40",
   "metadata": {},
   "source": [
    "This is promising! This model managed to classify spam emails separately from ham emails, more or less, without considering the labels! This confirms that this preprocessing model can \"capture\" the essence of the problem. I am aware that the metrics were bad, but this is still surprising considering that the model worked without any labels\n"
   ]
  },
  {
   "cell_type": "markdown",
   "id": "1fb7c5fc-bd39-4754-8253-84145725d72f",
   "metadata": {},
   "source": [
    "**Hashing vectorizer**"
   ]
  },
  {
   "cell_type": "code",
   "execution_count": 22,
   "id": "055cf862-a4c5-469e-a562-2a02c8e9bc41",
   "metadata": {},
   "outputs": [
    {
     "name": "stdout",
     "output_type": "stream",
     "text": [
      "Hashing Vectorizer\n",
      "              precision    recall  f1-score   support\n",
      "\n",
      "           0       0.61      0.32      0.42      4327\n",
      "           1       0.14      0.36      0.20      1368\n",
      "\n",
      "    accuracy                           0.33      5695\n",
      "   macro avg       0.38      0.34      0.31      5695\n",
      "weighted avg       0.50      0.33      0.37      5695\n",
      "\n"
     ]
    }
   ],
   "source": [
    "#Hashing vectorizer\n",
    "print(\"Hashing Vectorizer\")\n",
    "X_hashing = hashing_vectorizer.fit_transform(df['cleaned_mails'])\n",
    "kmeans = KMeans(n_clusters=2)\n",
    "y_pred_hash = kmeans.fit_predict(X_hashing)\n",
    "print(classification_report(Y, y_pred_hash, zero_division=0))\n"
   ]
  },
  {
   "cell_type": "markdown",
   "id": "0f3b5a46-2eb6-411d-9b63-acf5eb7c69b6",
   "metadata": {},
   "source": [
    "Even though it is worse than the previous one, this model has still been able to discriminate between ham and spam emails, which is a good sign!"
   ]
  },
  {
   "cell_type": "markdown",
   "id": "380bf884-fa70-45cc-b85f-aa66cc2b1fcf",
   "metadata": {},
   "source": [
    "**Model Tuning**"
   ]
  },
  {
   "cell_type": "markdown",
   "id": "f93cc74d-0f2d-4080-8832-2d71b1ab2bf0",
   "metadata": {},
   "source": [
    "We will evaluate five different classification algorithms and determine which performs best with various parameters. Interestingly, we will use tfidf_vectorizer for this process, despite its poor performance in the previous analysis. This might seem surprising, but do not be misled by earlier results. Although TfidfVectorizer performed poorly with KMeans clustering, it has shown outstanding performance in this section. Among the three metrics I computed, TfidfVectorizer yielded the best results. "
   ]
  },
  {
   "cell_type": "markdown",
   "id": "216de6e5-6ffa-4d92-93c0-8e56536b2701",
   "metadata": {},
   "source": [
    "**WARNING**: This can take several minutes, at least on my slow computer it did. Moreover, it may produce some warnings because some tools can cause unusual effects during scoring. If this happens to you, you can change the score to 'accuracy' or ignore these warnings."
   ]
  },
  {
   "cell_type": "code",
   "execution_count": 25,
   "id": "f0793745-969d-4859-947e-cd6b8649e6b7",
   "metadata": {},
   "outputs": [
    {
     "name": "stdout",
     "output_type": "stream",
     "text": [
      "Fitting 2 folds for each of 48 candidates, totalling 96 fits\n",
      "Fitting 2 folds for each of 27 candidates, totalling 54 fits\n",
      "Fitting 2 folds for each of 6 candidates, totalling 12 fits\n",
      "Fitting 2 folds for each of 27 candidates, totalling 54 fits\n",
      "Fitting 2 folds for each of 6 candidates, totalling 12 fits\n",
      "Model: svc\n",
      "Best Parameters: {'svc__C': 10, 'svc__coef0': 0, 'svc__degree': 2, 'svc__kernel': 'linear'}\n",
      "Best Score: 0.9817\n",
      "\n",
      "Model: extra_trees\n",
      "Best Parameters: {'extra_trees__max_features': None, 'extra_trees__min_samples_split': 5, 'extra_trees__n_estimators': 200}\n",
      "Best Score: 0.9548\n",
      "\n",
      "Model: logistic_regression\n",
      "Best Parameters: {'logistic_regression__C': 10, 'logistic_regression__penalty': 'l2', 'logistic_regression__solver': 'liblinear'}\n",
      "Best Score: 0.9753\n",
      "\n",
      "Model: random_forest\n",
      "Best Parameters: {'random_forest__max_features': 'sqrt', 'random_forest__min_samples_split': 2, 'random_forest__n_estimators': 200}\n",
      "Best Score: 0.9394\n",
      "\n",
      "Model: k_neighbors\n",
      "Best Parameters: {'k_neighbors__n_neighbors': 3, 'k_neighbors__weights': 'distance'}\n",
      "Best Score: 0.9304\n",
      "\n",
      "[CV 1/2] END svc__C=0.1, svc__coef0=0, svc__degree=3, svc__kernel=linear;, score=0.672 total time=  13.9s\n",
      "[CV 1/2] END svc__C=0.1, svc__coef0=1, svc__degree=2, svc__kernel=linear;, score=0.672 total time=  13.3s\n",
      "[CV 1/2] END svc__C=0.1, svc__coef0=1, svc__degree=3, svc__kernel=poly;, score=0.974 total time=  13.4s\n",
      "[CV 1/2] END svc__C=1, svc__coef0=0, svc__degree=2, svc__kernel=sigmoid;, score=0.981 total time=   8.7s\n",
      "[CV 1/2] END svc__C=1, svc__coef0=0, svc__degree=3, svc__kernel=sigmoid;, score=0.981 total time=   8.7s\n",
      "[CV 2/2] END svc__C=1, svc__coef0=1, svc__degree=2, svc__kernel=poly;, score=0.974 total time=  11.7s\n",
      "[CV 2/2] END svc__C=1, svc__coef0=1, svc__degree=3, svc__kernel=sigmoid;, score=0.960 total time=  10.5s\n",
      "[CV 2/2] END svc__C=10, svc__coef0=0, svc__degree=2, svc__kernel=sigmoid;, score=0.970 total time=   6.6s\n",
      "[CV 1/2] END svc__C=10, svc__coef0=0, svc__degree=3, svc__kernel=rbf;, score=0.973 total time=  18.8s\n",
      "[CV 2/2] END svc__C=10, svc__coef0=1, svc__degree=3, svc__kernel=rbf;, score=0.969 total time=  12.9s\n",
      "[CV 1/2] END extra_trees__max_features=auto, extra_trees__min_samples_split=5, extra_trees__n_estimators=200;, score=nan total time=   0.4s\n",
      "[CV 2/2] END extra_trees__max_features=sqrt, extra_trees__min_samples_split=2, extra_trees__n_estimators=200;, score=0.944 total time=   3.0s\n",
      "[CV 2/2] END extra_trees__max_features=log2, extra_trees__min_samples_split=2, extra_trees__n_estimators=100;, score=0.853 total time=   2.0s\n",
      "[CV 2/2] END extra_trees__max_features=log2, extra_trees__min_samples_split=10, extra_trees__n_estimators=50;, score=0.826 total time=   1.4s\n",
      "[CV 2/2] END logistic_regression__C=1, logistic_regression__penalty=l2, logistic_regression__solver=liblinear;, score=0.940 total time=   0.7s\n",
      "[CV 1/2] END random_forest__max_features=auto, random_forest__min_samples_split=5, random_forest__n_estimators=50;, score=nan total time=   0.4s\n",
      "[CV 1/2] END random_forest__max_features=sqrt, random_forest__min_samples_split=2, random_forest__n_estimators=50;, score=0.923 total time=   1.4s\n",
      "[CV 1/2] END random_forest__max_features=sqrt, random_forest__min_samples_split=10, random_forest__n_estimators=50;, score=0.933 total time=   1.5s\n",
      "[CV 2/2] END random_forest__max_features=log2, random_forest__min_samples_split=2, random_forest__n_estimators=200;, score=0.855 total time=   2.6s\n",
      "[CV 1/2] END k_neighbors__n_neighbors=3, k_neighbors__weights=distance;, score=0.946 total time=   1.2s\n",
      "[CV 2/2] END svc__C=0.1, svc__coef0=0, svc__degree=2, svc__kernel=poly;, score=0.119 total time=  18.8s\n",
      "[CV 2/2] END svc__C=0.1, svc__coef0=1, svc__degree=2, svc__kernel=rbf;, score=0.171 total time=  15.9s\n",
      "[CV 2/2] END svc__C=1, svc__coef0=0, svc__degree=2, svc__kernel=linear;, score=0.976 total time=   9.0s\n",
      "[CV 1/2] END svc__C=1, svc__coef0=0, svc__degree=3, svc__kernel=poly;, score=0.584 total time=  24.0s\n",
      "[CV 1/2] END svc__C=1, svc__coef0=1, svc__degree=3, svc__kernel=rbf;, score=0.972 total time=  18.8s\n",
      "[CV 1/2] END svc__C=10, svc__coef0=0, svc__degree=3, svc__kernel=sigmoid;, score=0.983 total time=   7.6s\n",
      "[CV 1/2] END svc__C=10, svc__coef0=1, svc__degree=2, svc__kernel=rbf;, score=0.973 total time=  16.6s\n",
      "[CV 1/2] END extra_trees__max_features=None, extra_trees__min_samples_split=5, extra_trees__n_estimators=50;, score=nan total time=   0.4s\n",
      "[CV 1/2] END extra_trees__max_features=sqrt, extra_trees__min_samples_split=2, extra_trees__n_estimators=100;, score=0.923 total time=   2.5s\n",
      "[CV 1/2] END extra_trees__max_features=log2, extra_trees__min_samples_split=2, extra_trees__n_estimators=50;, score=0.856 total time=   1.4s\n",
      "[CV 2/2] END extra_trees__max_features=log2, extra_trees__min_samples_split=5, extra_trees__n_estimators=50;, score=0.847 total time=   1.9s\n",
      "[CV 1/2] END logistic_regression__C=0.1, logistic_regression__penalty=l2, logistic_regression__solver=liblinear;, score=0.248 total time=   0.6s\n",
      "[CV 1/2] END random_forest__max_features=None, random_forest__min_samples_split=2, random_forest__n_estimators=50;, score=nan total time=   0.3s\n",
      "[CV 1/2] END random_forest__max_features=None, random_forest__min_samples_split=10, random_forest__n_estimators=100;, score=nan total time=   0.3s\n",
      "[CV 1/2] END random_forest__max_features=sqrt, random_forest__min_samples_split=5, random_forest__n_estimators=100;, score=0.932 total time=   2.2s\n",
      "[CV 2/2] END random_forest__max_features=log2, random_forest__min_samples_split=2, random_forest__n_estimators=50;, score=0.832 total time=   1.5s\n",
      "[CV 2/2] END random_forest__max_features=log2, random_forest__min_samples_split=5, random_forest__n_estimators=200;, score=0.853 total time=   1.9s\n",
      "[CV 2/2] END k_neighbors__n_neighbors=5, k_neighbors__weights=distance;, score=0.917 total time=   1.3s\n",
      "[CV 2/2] END svc__C=0.1, svc__coef0=0, svc__degree=3, svc__kernel=linear;, score=0.714 total time=  13.1s\n",
      "[CV 1/2] END svc__C=0.1, svc__coef0=0, svc__degree=3, svc__kernel=sigmoid;, score=0.660 total time=  12.6s\n",
      "[CV 1/2] END svc__C=0.1, svc__coef0=1, svc__degree=3, svc__kernel=linear;, score=0.672 total time=  12.6s\n",
      "[CV 1/2] END svc__C=1, svc__coef0=0, svc__degree=2, svc__kernel=rbf;, score=0.972 total time=  18.2s\n",
      "[CV 1/2] END svc__C=1, svc__coef0=1, svc__degree=2, svc__kernel=rbf;, score=0.972 total time=  18.1s\n",
      "[CV 1/2] END svc__C=10, svc__coef0=0, svc__degree=2, svc__kernel=rbf;, score=0.973 total time=  18.9s\n",
      "[CV 1/2] END svc__C=10, svc__coef0=1, svc__degree=2, svc__kernel=sigmoid;, score=0.955 total time=   5.7s\n",
      "[CV 2/2] END svc__C=10, svc__coef0=1, svc__degree=3, svc__kernel=poly;, score=0.971 total time=  12.1s\n",
      "[CV 2/2] END extra_trees__max_features=None, extra_trees__min_samples_split=5, extra_trees__n_estimators=100;, score=0.952 total time=  24.7s\n",
      "[CV 2/2] END extra_trees__max_features=sqrt, extra_trees__min_samples_split=2, extra_trees__n_estimators=50;, score=0.926 total time=   5.8s\n",
      "[CV 1/2] END extra_trees__max_features=sqrt, extra_trees__min_samples_split=2, extra_trees__n_estimators=200;, score=0.925 total time=   7.1s\n",
      "[CV 2/2] END extra_trees__max_features=sqrt, extra_trees__min_samples_split=10, extra_trees__n_estimators=100;, score=0.922 total time=   3.5s\n",
      "[CV 2/2] END extra_trees__max_features=log2, extra_trees__min_samples_split=2, extra_trees__n_estimators=200;, score=0.875 total time=   4.3s\n",
      "[CV 1/2] END logistic_regression__C=0.1, logistic_regression__penalty=l2, logistic_regression__solver=liblinear;, score=0.248 total time=   0.6s\n",
      "[CV 1/2] END random_forest__max_features=None, random_forest__min_samples_split=2, random_forest__n_estimators=50;, score=0.922 total time=  15.9s\n",
      "[CV 2/2] END random_forest__max_features=None, random_forest__min_samples_split=10, random_forest__n_estimators=100;, score=0.922 total time=  22.3s\n",
      "[CV 2/2] END random_forest__max_features=sqrt, random_forest__min_samples_split=5, random_forest__n_estimators=100;, score=0.939 total time=   3.0s\n",
      "[CV 1/2] END random_forest__max_features=log2, random_forest__min_samples_split=2, random_forest__n_estimators=50;, score=0.821 total time=   3.3s\n",
      "[CV 1/2] END random_forest__max_features=log2, random_forest__min_samples_split=5, random_forest__n_estimators=100;, score=0.841 total time=   3.0s\n",
      "[CV 1/2] END k_neighbors__n_neighbors=3, k_neighbors__weights=distance;, score=0.946 total time=   1.0s\n",
      "[CV 1/2] END svc__C=0.1, svc__coef0=0, svc__degree=2, svc__kernel=sigmoid;, score=0.660 total time=  13.8s\n",
      "[CV 1/2] END svc__C=0.1, svc__coef0=0, svc__degree=3, svc__kernel=sigmoid;, score=0.660 total time=  13.2s\n",
      "[CV 1/2] END svc__C=0.1, svc__coef0=1, svc__degree=3, svc__kernel=linear;, score=0.672 total time=  13.2s\n",
      "[CV 1/2] END svc__C=1, svc__coef0=0, svc__degree=2, svc__kernel=rbf;, score=0.972 total time=  19.3s\n",
      "[CV 1/2] END svc__C=1, svc__coef0=1, svc__degree=2, svc__kernel=sigmoid;, score=0.964 total time=  10.3s\n",
      "[CV 1/2] END svc__C=1, svc__coef0=1, svc__degree=3, svc__kernel=sigmoid;, score=0.964 total time=  10.8s\n",
      "[CV 1/2] END svc__C=10, svc__coef0=0, svc__degree=3, svc__kernel=linear;, score=0.984 total time=   9.3s\n",
      "[CV 1/2] END svc__C=10, svc__coef0=1, svc__degree=2, svc__kernel=linear;, score=0.984 total time=   9.4s\n",
      "[CV 1/2] END svc__C=10, svc__coef0=1, svc__degree=3, svc__kernel=linear;, score=0.984 total time=   8.9s\n",
      "[CV 2/2] END extra_trees__max_features=auto, extra_trees__min_samples_split=2, extra_trees__n_estimators=100;, score=nan total time=   0.3s\n",
      "[CV 1/2] END extra_trees__max_features=auto, extra_trees__min_samples_split=10, extra_trees__n_estimators=200;, score=nan total time=   0.3s\n",
      "[CV 2/2] END extra_trees__max_features=sqrt, extra_trees__min_samples_split=5, extra_trees__n_estimators=200;, score=0.933 total time=   4.1s\n",
      "[CV 1/2] END extra_trees__max_features=log2, extra_trees__min_samples_split=5, extra_trees__n_estimators=100;, score=0.837 total time=   1.8s\n",
      "[CV 2/2] END logistic_regression__C=0.1, logistic_regression__penalty=l2, logistic_regression__solver=saga;, score=0.231 total time=   0.7s\n",
      "[CV 2/2] END random_forest__max_features=auto, random_forest__min_samples_split=5, random_forest__n_estimators=100;, score=nan total time=   0.3s\n",
      "[CV 2/2] END random_forest__max_features=sqrt, random_forest__min_samples_split=2, random_forest__n_estimators=100;, score=0.932 total time=   2.0s\n",
      "[CV 1/2] END random_forest__max_features=sqrt, random_forest__min_samples_split=10, random_forest__n_estimators=200;, score=0.937 total time=   2.5s\n",
      "[CV 1/2] END random_forest__max_features=log2, random_forest__min_samples_split=10, random_forest__n_estimators=50;, score=0.841 total time=   1.1s\n",
      "[CV 2/2] END k_neighbors__n_neighbors=5, k_neighbors__weights=uniform;, score=0.909 total time=   1.2s\n",
      "[CV 1/2] END svc__C=0.1, svc__coef0=0, svc__degree=2, svc__kernel=poly;, score=0.103 total time=  18.8s\n",
      "[CV 1/2] END svc__C=0.1, svc__coef0=1, svc__degree=2, svc__kernel=rbf;, score=0.106 total time=  15.8s\n",
      "[CV 1/2] END svc__C=1, svc__coef0=0, svc__degree=2, svc__kernel=linear;, score=0.982 total time=   9.3s\n",
      "[CV 2/2] END svc__C=1, svc__coef0=0, svc__degree=3, svc__kernel=poly;, score=0.561 total time=  24.5s\n",
      "[CV 1/2] END svc__C=1, svc__coef0=1, svc__degree=3, svc__kernel=sigmoid;, score=0.964 total time=  10.1s\n",
      "[CV 1/2] END svc__C=10, svc__coef0=0, svc__degree=2, svc__kernel=sigmoid;, score=0.983 total time=   7.7s\n",
      "[CV 2/2] END svc__C=10, svc__coef0=0, svc__degree=3, svc__kernel=rbf;, score=0.969 total time=  19.1s\n",
      "[CV 2/2] END extra_trees__max_features=None, extra_trees__min_samples_split=2, extra_trees__n_estimators=50;, score=nan total time=   0.3s\n",
      "[CV 2/2] END extra_trees__max_features=None, extra_trees__min_samples_split=10, extra_trees__n_estimators=50;, score=nan total time=   0.3s\n",
      "[CV 2/2] END extra_trees__max_features=sqrt, extra_trees__min_samples_split=5, extra_trees__n_estimators=50;, score=0.925 total time=   1.9s\n",
      "[CV 1/2] END extra_trees__max_features=sqrt, extra_trees__min_samples_split=10, extra_trees__n_estimators=200;, score=0.917 total time=   2.5s\n",
      "[CV 1/2] END extra_trees__max_features=log2, extra_trees__min_samples_split=10, extra_trees__n_estimators=50;, score=0.832 total time=   1.3s\n",
      "[CV 2/2] END logistic_regression__C=0.1, logistic_regression__penalty=l2, logistic_regression__solver=liblinear;, score=0.237 total time=   0.7s\n",
      "[CV 2/2] END random_forest__max_features=None, random_forest__min_samples_split=2, random_forest__n_estimators=100;, score=nan total time=   0.3s\n",
      "[CV 2/2] END random_forest__max_features=None, random_forest__min_samples_split=10, random_forest__n_estimators=100;, score=nan total time=   0.4s\n",
      "[CV 2/2] END random_forest__max_features=sqrt, random_forest__min_samples_split=5, random_forest__n_estimators=200;, score=0.941 total time=   3.0s\n",
      "[CV 1/2] END random_forest__max_features=log2, random_forest__min_samples_split=5, random_forest__n_estimators=50;, score=0.847 total time=   1.6s\n",
      "[CV 1/2] END random_forest__max_features=log2, random_forest__min_samples_split=10, random_forest__n_estimators=100;, score=0.834 total time=   1.1s\n",
      "[CV 1/2] END k_neighbors__n_neighbors=5, k_neighbors__weights=distance;, score=0.938 total time=   1.3s\n",
      "[CV 1/2] END svc__C=0.1, svc__coef0=0, svc__degree=2, svc__kernel=sigmoid;, score=0.660 total time=  13.2s\n",
      "[CV 1/2] END svc__C=0.1, svc__coef0=1, svc__degree=2, svc__kernel=linear;, score=0.672 total time=  12.7s\n",
      "[CV 1/2] END svc__C=0.1, svc__coef0=1, svc__degree=3, svc__kernel=poly;, score=0.974 total time=  13.4s\n",
      "[CV 2/2] END svc__C=1, svc__coef0=0, svc__degree=2, svc__kernel=sigmoid;, score=0.977 total time=   8.2s\n",
      "[CV 2/2] END svc__C=1, svc__coef0=0, svc__degree=3, svc__kernel=sigmoid;, score=0.977 total time=   8.1s\n",
      "[CV 2/2] END svc__C=1, svc__coef0=1, svc__degree=2, svc__kernel=poly;, score=0.974 total time=  10.6s\n",
      "[CV 1/2] END svc__C=1, svc__coef0=1, svc__degree=3, svc__kernel=sigmoid;, score=0.964 total time=   9.8s\n",
      "[CV 1/2] END svc__C=10, svc__coef0=0, svc__degree=3, svc__kernel=linear;, score=0.984 total time=   9.0s\n",
      "[CV 2/2] END svc__C=10, svc__coef0=1, svc__degree=2, svc__kernel=linear;, score=0.979 total time=   8.9s\n",
      "[CV 2/2] END svc__C=10, svc__coef0=1, svc__degree=3, svc__kernel=linear;, score=0.979 total time=   8.5s\n",
      "[CV 1/2] END extra_trees__max_features=None, extra_trees__min_samples_split=2, extra_trees__n_estimators=100;, score=0.953 total time=  24.1s\n",
      "[CV 1/2] END extra_trees__max_features=sqrt, extra_trees__min_samples_split=2, extra_trees__n_estimators=50;, score=0.913 total time=   6.7s\n",
      "[CV 2/2] END extra_trees__max_features=sqrt, extra_trees__min_samples_split=2, extra_trees__n_estimators=200;, score=0.944 total time=   6.7s\n",
      "[CV 1/2] END extra_trees__max_features=sqrt, extra_trees__min_samples_split=10, extra_trees__n_estimators=100;, score=0.916 total time=   3.1s\n",
      "[CV 1/2] END extra_trees__max_features=log2, extra_trees__min_samples_split=2, extra_trees__n_estimators=100;, score=0.853 total time=   3.1s\n",
      "[CV 1/2] END extra_trees__max_features=log2, extra_trees__min_samples_split=5, extra_trees__n_estimators=200;, score=0.849 total time=   2.5s\n",
      "[CV 1/2] END logistic_regression__C=10, logistic_regression__penalty=l2, logistic_regression__solver=liblinear;, score=0.979 total time=   0.6s\n",
      "[CV 2/2] END random_forest__max_features=None, random_forest__min_samples_split=2, random_forest__n_estimators=100;, score=0.921 total time=  26.3s\n",
      "[CV 1/2] END random_forest__max_features=sqrt, random_forest__min_samples_split=2, random_forest__n_estimators=50;, score=0.923 total time=   4.3s\n",
      "[CV 2/2] END random_forest__max_features=sqrt, random_forest__min_samples_split=2, random_forest__n_estimators=100;, score=0.932 total time=   5.7s\n",
      "[CV 1/2] END random_forest__max_features=sqrt, random_forest__min_samples_split=5, random_forest__n_estimators=100;, score=0.932 total time=   3.3s\n",
      "[CV 2/2] END random_forest__max_features=sqrt, random_forest__min_samples_split=10, random_forest__n_estimators=50;, score=0.928 total time=   3.4s\n",
      "[CV 1/2] END random_forest__max_features=log2, random_forest__min_samples_split=2, random_forest__n_estimators=200;, score=0.831 total time=   4.2s\n",
      "[CV 2/2] END k_neighbors__n_neighbors=3, k_neighbors__weights=distance;, score=0.915 total time=   1.0s\n",
      "[CV 2/2] END svc__C=0.1, svc__coef0=0, svc__degree=3, svc__kernel=poly;, score=0.079 total time=  24.1s\n",
      "[CV 2/2] END svc__C=0.1, svc__coef0=1, svc__degree=2, svc__kernel=sigmoid;, score=0.000 total time=  13.8s\n",
      "[CV 2/2] END svc__C=1, svc__coef0=0, svc__degree=2, svc__kernel=poly;, score=0.877 total time=  22.4s\n",
      "[CV 2/2] END svc__C=1, svc__coef0=1, svc__degree=2, svc__kernel=sigmoid;, score=0.960 total time=  10.7s\n",
      "[CV 2/2] END svc__C=10, svc__coef0=0, svc__degree=2, svc__kernel=linear;, score=0.979 total time=   9.9s\n",
      "[CV 2/2] END svc__C=10, svc__coef0=0, svc__degree=3, svc__kernel=linear;, score=0.979 total time=   9.0s\n",
      "[CV 2/2] END svc__C=10, svc__coef0=1, svc__degree=2, svc__kernel=linear;, score=0.979 total time=   9.1s\n",
      "[CV 1/2] END svc__C=10, svc__coef0=1, svc__degree=2, svc__kernel=sigmoid;, score=0.955 total time=   6.0s\n",
      "[CV 2/2] END svc__C=10, svc__coef0=1, svc__degree=3, svc__kernel=poly;, score=0.971 total time=  12.1s\n",
      "[CV 2/2] END extra_trees__max_features=auto, extra_trees__min_samples_split=5, extra_trees__n_estimators=100;, score=nan total time=   0.3s\n",
      "[CV 1/2] END extra_trees__max_features=sqrt, extra_trees__min_samples_split=2, extra_trees__n_estimators=100;, score=0.923 total time=   2.5s\n",
      "[CV 2/2] END extra_trees__max_features=sqrt, extra_trees__min_samples_split=10, extra_trees__n_estimators=100;, score=0.922 total time=   2.3s\n",
      "[CV 2/2] END extra_trees__max_features=log2, extra_trees__min_samples_split=5, extra_trees__n_estimators=200;, score=0.858 total time=   2.1s\n",
      "[CV 2/2] END logistic_regression__C=10, logistic_regression__penalty=l2, logistic_regression__solver=liblinear;, score=0.971 total time=   0.6s\n",
      "[CV 1/2] END random_forest__max_features=auto, random_forest__min_samples_split=2, random_forest__n_estimators=100;, score=nan total time=   0.3s\n",
      "[CV 1/2] END random_forest__max_features=auto, random_forest__min_samples_split=10, random_forest__n_estimators=100;, score=nan total time=   0.3s\n",
      "[CV 1/2] END random_forest__max_features=sqrt, random_forest__min_samples_split=5, random_forest__n_estimators=50;, score=0.937 total time=   1.4s\n",
      "[CV 1/2] END random_forest__max_features=sqrt, random_forest__min_samples_split=10, random_forest__n_estimators=100;, score=0.943 total time=   2.3s\n",
      "[CV 1/2] END random_forest__max_features=log2, random_forest__min_samples_split=5, random_forest__n_estimators=200;, score=0.841 total time=   1.9s\n",
      "[CV 1/2] END k_neighbors__n_neighbors=7, k_neighbors__weights=uniform;, score=0.929 total time=   1.3s\n",
      "[CV 2/2] END svc__C=0.1, svc__coef0=0, svc__degree=3, svc__kernel=poly;, score=0.079 total time=  24.6s\n",
      "[CV 2/2] END svc__C=0.1, svc__coef0=1, svc__degree=2, svc__kernel=sigmoid;, score=0.000 total time=  14.2s\n",
      "[CV 2/2] END svc__C=1, svc__coef0=0, svc__degree=2, svc__kernel=poly;, score=0.877 total time=  21.9s\n",
      "[CV 1/2] END svc__C=1, svc__coef0=1, svc__degree=3, svc__kernel=linear;, score=0.982 total time=   9.1s\n",
      "[CV 2/2] END svc__C=10, svc__coef0=0, svc__degree=2, svc__kernel=linear;, score=0.979 total time=   9.0s\n",
      "[CV 2/2] END svc__C=10, svc__coef0=0, svc__degree=3, svc__kernel=linear;, score=0.979 total time=   9.0s\n",
      "[CV 1/2] END svc__C=10, svc__coef0=1, svc__degree=2, svc__kernel=linear;, score=0.984 total time=   9.3s\n",
      "[CV 1/2] END svc__C=10, svc__coef0=1, svc__degree=3, svc__kernel=linear;, score=0.984 total time=   8.9s\n",
      "[CV 1/2] END extra_trees__max_features=None, extra_trees__min_samples_split=2, extra_trees__n_estimators=100;, score=nan total time=   0.3s\n",
      "[CV 1/2] END extra_trees__max_features=None, extra_trees__min_samples_split=10, extra_trees__n_estimators=100;, score=nan total time=   0.3s\n",
      "[CV 2/2] END extra_trees__max_features=sqrt, extra_trees__min_samples_split=5, extra_trees__n_estimators=100;, score=0.929 total time=   2.7s\n",
      "[CV 2/2] END extra_trees__max_features=log2, extra_trees__min_samples_split=2, extra_trees__n_estimators=50;, score=0.846 total time=   1.6s\n",
      "[CV 2/2] END extra_trees__max_features=log2, extra_trees__min_samples_split=5, extra_trees__n_estimators=200;, score=0.858 total time=   2.2s\n",
      "[CV 2/2] END logistic_regression__C=10, logistic_regression__penalty=l2, logistic_regression__solver=liblinear;, score=0.971 total time=   0.6s\n",
      "[CV 2/2] END random_forest__max_features=None, random_forest__min_samples_split=5, random_forest__n_estimators=50;, score=nan total time=   0.3s\n",
      "[CV 1/2] END random_forest__max_features=sqrt, random_forest__min_samples_split=2, random_forest__n_estimators=50;, score=0.923 total time=   1.3s\n",
      "[CV 1/2] END random_forest__max_features=sqrt, random_forest__min_samples_split=10, random_forest__n_estimators=50;, score=0.933 total time=   1.4s\n",
      "[CV 2/2] END random_forest__max_features=log2, random_forest__min_samples_split=2, random_forest__n_estimators=100;, score=0.838 total time=   1.7s\n",
      "[CV 2/2] END random_forest__max_features=log2, random_forest__min_samples_split=10, random_forest__n_estimators=50;, score=0.834 total time=   1.0s\n",
      "[CV 1/2] END k_neighbors__n_neighbors=5, k_neighbors__weights=uniform;, score=0.930 total time=   1.3s\n",
      "[CV 2/2] END svc__C=0.1, svc__coef0=0, svc__degree=3, svc__kernel=poly;, score=0.079 total time=  22.8s\n",
      "[CV 1/2] END svc__C=0.1, svc__coef0=1, svc__degree=2, svc__kernel=sigmoid;, score=0.000 total time=  13.5s\n",
      "[CV 1/2] END svc__C=1, svc__coef0=0, svc__degree=2, svc__kernel=poly;, score=0.893 total time=  20.5s\n",
      "[CV 2/2] END svc__C=1, svc__coef0=1, svc__degree=2, svc__kernel=rbf;, score=0.964 total time=  17.9s\n",
      "[CV 2/2] END svc__C=10, svc__coef0=0, svc__degree=2, svc__kernel=rbf;, score=0.969 total time=  19.0s\n",
      "[CV 2/2] END svc__C=10, svc__coef0=1, svc__degree=2, svc__kernel=sigmoid;, score=0.947 total time=   5.0s\n",
      "[CV 1/2] END svc__C=10, svc__coef0=1, svc__degree=3, svc__kernel=poly;, score=0.979 total time=  11.5s\n",
      "[CV 1/2] END extra_trees__max_features=None, extra_trees__min_samples_split=5, extra_trees__n_estimators=100;, score=0.955 total time=  23.6s\n",
      "[CV 2/2] END extra_trees__max_features=None, extra_trees__min_samples_split=10, extra_trees__n_estimators=200;, score=0.953 total time=  22.5s\n",
      "[CV 2/2] END logistic_regression__C=1, logistic_regression__penalty=l2, logistic_regression__solver=liblinear;, score=0.940 total time=   0.6s\n",
      "[CV 1/2] END random_forest__max_features=None, random_forest__min_samples_split=2, random_forest__n_estimators=100;, score=0.920 total time=  24.6s\n",
      "[CV 1/2] END random_forest__max_features=None, random_forest__min_samples_split=10, random_forest__n_estimators=200;, score=0.923 total time=  22.8s\n",
      "[CV 1/2] END k_neighbors__n_neighbors=3, k_neighbors__weights=uniform;, score=0.940 total time=   1.0s\n",
      "[CV 2/2] END svc__C=0.1, svc__coef0=0, svc__degree=2, svc__kernel=rbf;, score=0.171 total time=  16.2s\n",
      "[CV 1/2] END svc__C=0.1, svc__coef0=1, svc__degree=2, svc__kernel=poly;, score=0.937 total time=  12.6s\n",
      "[CV 1/2] END svc__C=0.1, svc__coef0=1, svc__degree=3, svc__kernel=rbf;, score=0.106 total time=  16.5s\n",
      "[CV 1/2] END svc__C=1, svc__coef0=0, svc__degree=3, svc__kernel=rbf;, score=0.972 total time=  19.5s\n",
      "[CV 2/2] END svc__C=1, svc__coef0=1, svc__degree=3, svc__kernel=poly;, score=0.971 total time=  17.2s\n",
      "[CV 2/2] END svc__C=10, svc__coef0=0, svc__degree=3, svc__kernel=poly;, score=0.619 total time=  24.9s\n",
      "[CV 1/2] END extra_trees__max_features=auto, extra_trees__min_samples_split=2, extra_trees__n_estimators=50;, score=nan total time=   0.3s\n",
      "[CV 2/2] END extra_trees__max_features=auto, extra_trees__min_samples_split=10, extra_trees__n_estimators=50;, score=nan total time=   0.3s\n",
      "[CV 2/2] END extra_trees__max_features=sqrt, extra_trees__min_samples_split=5, extra_trees__n_estimators=50;, score=0.925 total time=   2.4s\n",
      "[CV 2/2] END extra_trees__max_features=sqrt, extra_trees__min_samples_split=10, extra_trees__n_estimators=200;, score=0.923 total time=   3.0s\n",
      "[CV 2/2] END extra_trees__max_features=log2, extra_trees__min_samples_split=10, extra_trees__n_estimators=100;, score=0.834 total time=   1.2s\n",
      "[CV 1/2] END logistic_regression__C=10, logistic_regression__penalty=l2, logistic_regression__solver=liblinear;, score=0.979 total time=   0.6s\n",
      "[CV 1/2] END random_forest__max_features=auto, random_forest__min_samples_split=2, random_forest__n_estimators=200;, score=nan total time=   0.3s\n",
      "[CV 1/2] END random_forest__max_features=auto, random_forest__min_samples_split=10, random_forest__n_estimators=200;, score=nan total time=   0.3s\n",
      "[CV 1/2] END random_forest__max_features=sqrt, random_forest__min_samples_split=5, random_forest__n_estimators=200;, score=0.933 total time=   3.0s\n",
      "[CV 1/2] END random_forest__max_features=log2, random_forest__min_samples_split=5, random_forest__n_estimators=50;, score=0.847 total time=   1.4s\n",
      "[CV 2/2] END random_forest__max_features=log2, random_forest__min_samples_split=10, random_forest__n_estimators=100;, score=0.846 total time=   1.2s\n",
      "[CV 2/2] END k_neighbors__n_neighbors=5, k_neighbors__weights=distance;, score=0.917 total time=   1.3s\n",
      "[CV 1/2] END svc__C=0.1, svc__coef0=0, svc__degree=2, svc__kernel=sigmoid;, score=0.660 total time=  13.3s\n",
      "[CV 2/2] END svc__C=0.1, svc__coef0=0, svc__degree=3, svc__kernel=rbf;, score=0.171 total time=  15.9s\n",
      "[CV 2/2] END svc__C=0.1, svc__coef0=1, svc__degree=3, svc__kernel=sigmoid;, score=0.000 total time=  13.7s\n",
      "[CV 2/2] END svc__C=1, svc__coef0=0, svc__degree=3, svc__kernel=linear;, score=0.976 total time=   9.2s\n",
      "[CV 2/2] END svc__C=1, svc__coef0=1, svc__degree=2, svc__kernel=linear;, score=0.976 total time=   9.1s\n",
      "[CV 2/2] END svc__C=1, svc__coef0=1, svc__degree=3, svc__kernel=linear;, score=0.976 total time=   9.5s\n",
      "[CV 1/2] END svc__C=10, svc__coef0=0, svc__degree=2, svc__kernel=poly;, score=0.904 total time=  21.5s\n",
      "[CV 1/2] END svc__C=10, svc__coef0=1, svc__degree=2, svc__kernel=poly;, score=0.984 total time=  11.1s\n",
      "[CV 1/2] END svc__C=10, svc__coef0=1, svc__degree=3, svc__kernel=rbf;, score=0.973 total time=  13.6s\n",
      "[CV 2/2] END extra_trees__max_features=None, extra_trees__min_samples_split=5, extra_trees__n_estimators=200;, score=nan total time=   0.3s\n",
      "[CV 2/2] END extra_trees__max_features=sqrt, extra_trees__min_samples_split=2, extra_trees__n_estimators=100;, score=0.935 total time=   2.1s\n",
      "[CV 1/2] END extra_trees__max_features=sqrt, extra_trees__min_samples_split=10, extra_trees__n_estimators=100;, score=0.916 total time=   2.2s\n",
      "[CV 1/2] END extra_trees__max_features=log2, extra_trees__min_samples_split=5, extra_trees__n_estimators=200;, score=0.849 total time=   2.4s\n",
      "[CV 2/2] END logistic_regression__C=1, logistic_regression__penalty=l2, logistic_regression__solver=liblinear;, score=0.940 total time=   0.6s\n",
      "[CV 2/2] END random_forest__max_features=None, random_forest__min_samples_split=2, random_forest__n_estimators=50;, score=nan total time=   0.3s\n",
      "[CV 1/2] END random_forest__max_features=None, random_forest__min_samples_split=10, random_forest__n_estimators=50;, score=nan total time=   0.3s\n",
      "[CV 2/2] END random_forest__max_features=sqrt, random_forest__min_samples_split=5, random_forest__n_estimators=50;, score=0.929 total time=   1.8s\n",
      "[CV 2/2] END random_forest__max_features=sqrt, random_forest__min_samples_split=10, random_forest__n_estimators=100;, score=0.933 total time=   1.7s\n",
      "[CV 1/2] END random_forest__max_features=log2, random_forest__min_samples_split=5, random_forest__n_estimators=100;, score=0.841 total time=   1.7s\n",
      "[CV 1/2] END k_neighbors__n_neighbors=3, k_neighbors__weights=distance;, score=0.946 total time=   1.2s\n",
      "[CV 1/2] END svc__C=0.1, svc__coef0=0, svc__degree=2, svc__kernel=rbf;, score=0.106 total time=  15.6s\n",
      "[CV 1/2] END svc__C=0.1, svc__coef0=1, svc__degree=2, svc__kernel=poly;, score=0.937 total time=  12.2s\n",
      "[CV 2/2] END svc__C=0.1, svc__coef0=1, svc__degree=3, svc__kernel=rbf;, score=0.171 total time=  15.9s\n",
      "[CV 2/2] END svc__C=1, svc__coef0=0, svc__degree=3, svc__kernel=rbf;, score=0.964 total time=  18.3s\n",
      "[CV 2/2] END svc__C=1, svc__coef0=1, svc__degree=3, svc__kernel=poly;, score=0.971 total time=  15.5s\n",
      "[CV 2/2] END svc__C=10, svc__coef0=0, svc__degree=3, svc__kernel=poly;, score=0.619 total time=  24.1s\n",
      "[CV 1/2] END extra_trees__max_features=None, extra_trees__min_samples_split=2, extra_trees__n_estimators=50;, score=0.951 total time=  15.1s\n",
      "[CV 2/2] END extra_trees__max_features=None, extra_trees__min_samples_split=10, extra_trees__n_estimators=50;, score=0.950 total time=  14.6s\n",
      "[CV 2/2] END extra_trees__max_features=sqrt, extra_trees__min_samples_split=2, extra_trees__n_estimators=100;, score=0.935 total time=   6.4s\n",
      "[CV 2/2] END extra_trees__max_features=sqrt, extra_trees__min_samples_split=5, extra_trees__n_estimators=50;, score=0.925 total time=   2.9s\n",
      "[CV 1/2] END extra_trees__max_features=sqrt, extra_trees__min_samples_split=10, extra_trees__n_estimators=200;, score=0.917 total time=   5.0s\n",
      "[CV 2/2] END extra_trees__max_features=log2, extra_trees__min_samples_split=5, extra_trees__n_estimators=200;, score=0.858 total time=   2.3s\n",
      "[CV 2/2] END logistic_regression__C=10, logistic_regression__penalty=l2, logistic_regression__solver=liblinear;, score=0.971 total time=   0.6s\n",
      "[CV 2/2] END random_forest__max_features=None, random_forest__min_samples_split=2, random_forest__n_estimators=200;, score=0.928 total time=  40.0s\n",
      "[CV 2/2] END random_forest__max_features=sqrt, random_forest__min_samples_split=10, random_forest__n_estimators=100;, score=0.933 total time=   3.7s\n",
      "[CV 2/2] END random_forest__max_features=log2, random_forest__min_samples_split=5, random_forest__n_estimators=50;, score=0.834 total time=   2.3s\n",
      "[CV 2/2] END random_forest__max_features=log2, random_forest__min_samples_split=10, random_forest__n_estimators=50;, score=0.834 total time=   1.5s\n",
      "[CV 1/2] END k_neighbors__n_neighbors=5, k_neighbors__weights=uniform;, score=0.930 total time=   1.1s\n",
      "[CV 2/2] END svc__C=0.1, svc__coef0=0, svc__degree=2, svc__kernel=sigmoid;, score=0.701 total time=  14.0s\n",
      "[CV 2/2] END svc__C=0.1, svc__coef0=0, svc__degree=3, svc__kernel=sigmoid;, score=0.701 total time=  13.2s\n",
      "[CV 2/2] END svc__C=0.1, svc__coef0=1, svc__degree=3, svc__kernel=linear;, score=0.714 total time=  13.2s\n",
      "[CV 2/2] END svc__C=1, svc__coef0=0, svc__degree=2, svc__kernel=rbf;, score=0.964 total time=  18.9s\n",
      "[CV 1/2] END svc__C=1, svc__coef0=1, svc__degree=2, svc__kernel=rbf;, score=0.972 total time=  20.4s\n",
      "[CV 1/2] END svc__C=10, svc__coef0=0, svc__degree=2, svc__kernel=rbf;, score=0.973 total time=  19.6s\n",
      "[CV 2/2] END svc__C=10, svc__coef0=1, svc__degree=2, svc__kernel=sigmoid;, score=0.947 total time=   5.1s\n",
      "[CV 1/2] END svc__C=10, svc__coef0=1, svc__degree=3, svc__kernel=poly;, score=0.979 total time=  11.7s\n",
      "[CV 1/2] END extra_trees__max_features=auto, extra_trees__min_samples_split=5, extra_trees__n_estimators=100;, score=nan total time=   0.4s\n",
      "[CV 2/2] END extra_trees__max_features=sqrt, extra_trees__min_samples_split=2, extra_trees__n_estimators=100;, score=0.935 total time=   2.6s\n",
      "[CV 1/2] END extra_trees__max_features=sqrt, extra_trees__min_samples_split=10, extra_trees__n_estimators=200;, score=0.917 total time=   2.2s\n",
      "[CV 1/2] END extra_trees__max_features=log2, extra_trees__min_samples_split=10, extra_trees__n_estimators=50;, score=0.832 total time=   1.3s\n",
      "[CV 1/2] END logistic_regression__C=0.1, logistic_regression__penalty=l2, logistic_regression__solver=saga;, score=0.231 total time=   0.7s\n",
      "[CV 2/2] END random_forest__max_features=auto, random_forest__min_samples_split=2, random_forest__n_estimators=100;, score=nan total time=   0.3s\n",
      "[CV 2/2] END random_forest__max_features=auto, random_forest__min_samples_split=10, random_forest__n_estimators=100;, score=nan total time=   0.3s\n",
      "[CV 2/2] END random_forest__max_features=sqrt, random_forest__min_samples_split=5, random_forest__n_estimators=50;, score=0.929 total time=   1.4s\n",
      "[CV 2/2] END random_forest__max_features=sqrt, random_forest__min_samples_split=10, random_forest__n_estimators=50;, score=0.928 total time=   1.8s\n",
      "[CV 2/2] END random_forest__max_features=log2, random_forest__min_samples_split=5, random_forest__n_estimators=50;, score=0.834 total time=   1.5s\n",
      "[CV 2/2] END random_forest__max_features=log2, random_forest__min_samples_split=10, random_forest__n_estimators=200;, score=0.850 total time=   1.3s\n",
      "[CV 2/2] END k_neighbors__n_neighbors=7, k_neighbors__weights=distance;, score=0.921 total time=   1.3s\n",
      "[CV 2/2] END svc__C=0.1, svc__coef0=0, svc__degree=3, svc__kernel=linear;, score=0.714 total time=  13.2s\n",
      "[CV 1/2] END svc__C=0.1, svc__coef0=0, svc__degree=3, svc__kernel=rbf;, score=0.106 total time=  15.4s\n",
      "[CV 2/2] END svc__C=0.1, svc__coef0=1, svc__degree=3, svc__kernel=rbf;, score=0.171 total time=  16.3s\n",
      "[CV 2/2] END svc__C=1, svc__coef0=0, svc__degree=3, svc__kernel=rbf;, score=0.964 total time=  18.9s\n",
      "[CV 2/2] END svc__C=1, svc__coef0=1, svc__degree=3, svc__kernel=poly;, score=0.971 total time=  16.1s\n",
      "[CV 2/2] END svc__C=10, svc__coef0=0, svc__degree=3, svc__kernel=poly;, score=0.619 total time=  24.4s\n",
      "[CV 2/2] END svc__C=10, svc__coef0=1, svc__degree=3, svc__kernel=sigmoid;, score=0.947 total time=   4.0s\n",
      "[CV 1/2] END extra_trees__max_features=None, extra_trees__min_samples_split=2, extra_trees__n_estimators=200;, score=nan total time=   0.4s\n",
      "[CV 2/2] END extra_trees__max_features=None, extra_trees__min_samples_split=10, extra_trees__n_estimators=200;, score=nan total time=   0.4s\n",
      "[CV 2/2] END extra_trees__max_features=sqrt, extra_trees__min_samples_split=5, extra_trees__n_estimators=200;, score=0.933 total time=   3.5s\n",
      "[CV 1/2] END extra_trees__max_features=log2, extra_trees__min_samples_split=2, extra_trees__n_estimators=200;, score=0.864 total time=   2.9s\n",
      "[CV 2/2] END logistic_regression__C=1, logistic_regression__penalty=l2, logistic_regression__solver=saga;, score=0.940 total time=   0.7s\n",
      "[CV 1/2] END random_forest__max_features=None, random_forest__min_samples_split=5, random_forest__n_estimators=100;, score=nan total time=   0.4s\n",
      "[CV 1/2] END random_forest__max_features=sqrt, random_forest__min_samples_split=2, random_forest__n_estimators=200;, score=0.938 total time=   2.8s\n",
      "[CV 1/2] END random_forest__max_features=log2, random_forest__min_samples_split=2, random_forest__n_estimators=200;, score=0.831 total time=   2.3s\n",
      "[CV 1/2] END k_neighbors__n_neighbors=3, k_neighbors__weights=uniform;, score=0.940 total time=   1.1s\n",
      "[CV 1/2] END svc__C=0.1, svc__coef0=0, svc__degree=2, svc__kernel=poly;, score=0.103 total time=  18.0s\n",
      "[CV 1/2] END svc__C=0.1, svc__coef0=1, svc__degree=2, svc__kernel=rbf;, score=0.106 total time=  15.1s\n",
      "[CV 1/2] END svc__C=1, svc__coef0=0, svc__degree=2, svc__kernel=linear;, score=0.982 total time=   8.8s\n",
      "[CV 1/2] END svc__C=1, svc__coef0=0, svc__degree=3, svc__kernel=linear;, score=0.982 total time=   9.0s\n",
      "[CV 1/2] END svc__C=1, svc__coef0=1, svc__degree=2, svc__kernel=linear;, score=0.982 total time=   9.0s\n",
      "[CV 1/2] END svc__C=1, svc__coef0=1, svc__degree=3, svc__kernel=linear;, score=0.982 total time=   8.9s\n",
      "[CV 1/2] END svc__C=10, svc__coef0=0, svc__degree=2, svc__kernel=poly;, score=0.904 total time=  21.1s\n",
      "[CV 1/2] END svc__C=10, svc__coef0=1, svc__degree=2, svc__kernel=poly;, score=0.984 total time=  10.4s\n",
      "[CV 1/2] END svc__C=10, svc__coef0=1, svc__degree=3, svc__kernel=rbf;, score=0.973 total time=  12.4s\n",
      "[CV 1/2] END extra_trees__max_features=None, extra_trees__min_samples_split=5, extra_trees__n_estimators=200;, score=0.956 total time=  37.4s\n",
      "[CV 1/2] END extra_trees__max_features=sqrt, extra_trees__min_samples_split=10, extra_trees__n_estimators=50;, score=0.915 total time=   3.2s\n",
      "[CV 2/2] END extra_trees__max_features=log2, extra_trees__min_samples_split=2, extra_trees__n_estimators=50;, score=0.846 total time=   3.0s\n",
      "[CV 2/2] END extra_trees__max_features=log2, extra_trees__min_samples_split=5, extra_trees__n_estimators=100;, score=0.858 total time=   2.3s\n",
      "[CV 2/2] END logistic_regression__C=0.1, logistic_regression__penalty=l2, logistic_regression__solver=saga;, score=0.228 total time=   0.7s\n",
      "[CV 2/2] END random_forest__max_features=None, random_forest__min_samples_split=5, random_forest__n_estimators=50;, score=0.926 total time=  15.1s\n",
      "[CV 1/2] END random_forest__max_features=None, random_forest__min_samples_split=10, random_forest__n_estimators=100;, score=0.917 total time=  20.0s\n",
      "[CV 1/2] END random_forest__max_features=sqrt, random_forest__min_samples_split=5, random_forest__n_estimators=50;, score=0.937 total time=   4.4s\n",
      "[CV 1/2] END random_forest__max_features=sqrt, random_forest__min_samples_split=10, random_forest__n_estimators=50;, score=0.933 total time=   2.6s\n",
      "[CV 1/2] END random_forest__max_features=log2, random_forest__min_samples_split=2, random_forest__n_estimators=100;, score=0.824 total time=   3.7s\n",
      "[CV 1/2] END random_forest__max_features=log2, random_forest__min_samples_split=10, random_forest__n_estimators=50;, score=0.841 total time=   1.6s\n",
      "[CV 2/2] END k_neighbors__n_neighbors=3, k_neighbors__weights=uniform;, score=0.911 total time=   1.1s\n",
      "[CV 1/2] END svc__C=0.1, svc__coef0=0, svc__degree=2, svc__kernel=linear;, score=0.672 total time=  13.2s\n",
      "[CV 1/2] END svc__C=0.1, svc__coef0=0, svc__degree=3, svc__kernel=rbf;, score=0.106 total time=  16.2s\n",
      "[CV 1/2] END svc__C=0.1, svc__coef0=1, svc__degree=3, svc__kernel=sigmoid;, score=0.000 total time=  13.8s\n",
      "[CV 1/2] END svc__C=1, svc__coef0=0, svc__degree=3, svc__kernel=linear;, score=0.982 total time=   9.4s\n",
      "[CV 1/2] END svc__C=1, svc__coef0=1, svc__degree=2, svc__kernel=linear;, score=0.982 total time=   9.4s\n",
      "[CV 1/2] END svc__C=1, svc__coef0=1, svc__degree=3, svc__kernel=linear;, score=0.982 total time=   9.8s\n",
      "[CV 1/2] END svc__C=10, svc__coef0=0, svc__degree=2, svc__kernel=poly;, score=0.904 total time=  23.4s\n",
      "[CV 2/2] END svc__C=10, svc__coef0=1, svc__degree=2, svc__kernel=poly;, score=0.975 total time=  10.7s\n",
      "[CV 1/2] END svc__C=10, svc__coef0=1, svc__degree=3, svc__kernel=sigmoid;, score=0.955 total time=   5.4s\n",
      "[CV 2/2] END extra_trees__max_features=auto, extra_trees__min_samples_split=2, extra_trees__n_estimators=200;, score=nan total time=   0.3s\n",
      "[CV 1/2] END extra_trees__max_features=sqrt, extra_trees__min_samples_split=2, extra_trees__n_estimators=50;, score=0.913 total time=   2.4s\n",
      "[CV 2/2] END extra_trees__max_features=sqrt, extra_trees__min_samples_split=10, extra_trees__n_estimators=50;, score=0.912 total time=   1.7s\n",
      "[CV 1/2] END extra_trees__max_features=log2, extra_trees__min_samples_split=5, extra_trees__n_estimators=50;, score=0.850 total time=   1.5s\n",
      "[CV 2/2] END extra_trees__max_features=log2, extra_trees__min_samples_split=10, extra_trees__n_estimators=200;, score=0.841 total time=   1.4s\n",
      "[CV 2/2] END logistic_regression__C=10, logistic_regression__penalty=l2, logistic_regression__solver=saga;, score=0.971 total time=   0.8s\n",
      "[CV 1/2] END random_forest__max_features=auto, random_forest__min_samples_split=5, random_forest__n_estimators=200;, score=nan total time=   0.4s\n",
      "[CV 1/2] END random_forest__max_features=sqrt, random_forest__min_samples_split=2, random_forest__n_estimators=200;, score=0.938 total time=   2.8s\n",
      "[CV 2/2] END random_forest__max_features=log2, random_forest__min_samples_split=2, random_forest__n_estimators=50;, score=0.832 total time=   1.6s\n",
      "[CV 2/2] END random_forest__max_features=log2, random_forest__min_samples_split=5, random_forest__n_estimators=200;, score=0.853 total time=   1.6s\n",
      "[CV 2/2] END k_neighbors__n_neighbors=7, k_neighbors__weights=uniform;, score=0.914 total time=   1.3s\n",
      "[CV 2/2] END svc__C=0.1, svc__coef0=0, svc__degree=2, svc__kernel=sigmoid;, score=0.701 total time=  13.6s\n",
      "[CV 2/2] END svc__C=0.1, svc__coef0=0, svc__degree=3, svc__kernel=sigmoid;, score=0.701 total time=  13.5s\n",
      "[CV 2/2] END svc__C=0.1, svc__coef0=1, svc__degree=3, svc__kernel=poly;, score=0.966 total time=  13.2s\n",
      "[CV 2/2] END svc__C=1, svc__coef0=0, svc__degree=2, svc__kernel=sigmoid;, score=0.977 total time=   8.5s\n",
      "[CV 2/2] END svc__C=1, svc__coef0=0, svc__degree=3, svc__kernel=sigmoid;, score=0.977 total time=   8.7s\n",
      "[CV 2/2] END svc__C=1, svc__coef0=1, svc__degree=2, svc__kernel=poly;, score=0.974 total time=  11.2s\n",
      "[CV 2/2] END svc__C=1, svc__coef0=1, svc__degree=3, svc__kernel=sigmoid;, score=0.960 total time=  10.1s\n",
      "[CV 1/2] END svc__C=10, svc__coef0=0, svc__degree=3, svc__kernel=linear;, score=0.984 total time=   9.2s\n",
      "[CV 2/2] END svc__C=10, svc__coef0=1, svc__degree=2, svc__kernel=linear;, score=0.979 total time=   8.9s\n",
      "[CV 2/2] END svc__C=10, svc__coef0=1, svc__degree=2, svc__kernel=sigmoid;, score=0.947 total time=   5.2s\n",
      "[CV 1/2] END svc__C=10, svc__coef0=1, svc__degree=3, svc__kernel=poly;, score=0.979 total time=  11.7s\n",
      "[CV 1/2] END extra_trees__max_features=None, extra_trees__min_samples_split=5, extra_trees__n_estimators=100;, score=nan total time=   0.4s\n",
      "[CV 2/2] END extra_trees__max_features=sqrt, extra_trees__min_samples_split=2, extra_trees__n_estimators=50;, score=0.926 total time=   2.0s\n",
      "[CV 2/2] END extra_trees__max_features=sqrt, extra_trees__min_samples_split=10, extra_trees__n_estimators=50;, score=0.912 total time=   1.9s\n",
      "[CV 2/2] END extra_trees__max_features=log2, extra_trees__min_samples_split=2, extra_trees__n_estimators=200;, score=0.875 total time=   2.5s\n",
      "[CV 2/2] END logistic_regression__C=0.1, logistic_regression__penalty=l2, logistic_regression__solver=saga;, score=0.228 total time=   0.7s\n",
      "[CV 2/2] END random_forest__max_features=None, random_forest__min_samples_split=2, random_forest__n_estimators=200;, score=nan total time=   0.3s\n",
      "[CV 2/2] END random_forest__max_features=sqrt, random_forest__min_samples_split=2, random_forest__n_estimators=50;, score=0.913 total time=   2.0s\n",
      "[CV 1/2] END random_forest__max_features=sqrt, random_forest__min_samples_split=10, random_forest__n_estimators=100;, score=0.943 total time=   1.8s\n",
      "[CV 2/2] END random_forest__max_features=log2, random_forest__min_samples_split=5, random_forest__n_estimators=100;, score=0.850 total time=   1.5s\n",
      "[CV 2/2] END k_neighbors__n_neighbors=3, k_neighbors__weights=uniform;, score=0.911 total time=   1.0s\n",
      "[CV 2/2] END svc__C=0.1, svc__coef0=0, svc__degree=2, svc__kernel=linear;, score=0.714 total time=  13.0s\n",
      "[CV 2/2] END svc__C=0.1, svc__coef0=0, svc__degree=3, svc__kernel=rbf;, score=0.171 total time=  15.3s\n",
      "[CV 2/2] END svc__C=0.1, svc__coef0=1, svc__degree=3, svc__kernel=sigmoid;, score=0.000 total time=  13.7s\n",
      "[CV 1/2] END svc__C=1, svc__coef0=0, svc__degree=3, svc__kernel=poly;, score=0.584 total time=  23.1s\n",
      "[CV 1/2] END svc__C=1, svc__coef0=1, svc__degree=3, svc__kernel=rbf;, score=0.972 total time=  18.5s\n",
      "[CV 1/2] END svc__C=10, svc__coef0=0, svc__degree=3, svc__kernel=sigmoid;, score=0.983 total time=   7.8s\n",
      "[CV 2/2] END svc__C=10, svc__coef0=1, svc__degree=2, svc__kernel=rbf;, score=0.969 total time=  16.9s\n",
      "[CV 2/2] END extra_trees__max_features=None, extra_trees__min_samples_split=5, extra_trees__n_estimators=50;, score=0.947 total time=  15.9s\n",
      "[CV 1/2] END extra_trees__max_features=None, extra_trees__min_samples_split=10, extra_trees__n_estimators=100;, score=0.951 total time=  20.8s\n",
      "[CV 1/2] END extra_trees__max_features=sqrt, extra_trees__min_samples_split=5, extra_trees__n_estimators=100;, score=0.923 total time=   3.9s\n",
      "[CV 2/2] END extra_trees__max_features=log2, extra_trees__min_samples_split=2, extra_trees__n_estimators=100;, score=0.853 total time=   3.8s\n",
      "[CV 1/2] END extra_trees__max_features=log2, extra_trees__min_samples_split=10, extra_trees__n_estimators=50;, score=0.832 total time=   1.5s\n",
      "[CV 2/2] END logistic_regression__C=0.1, logistic_regression__penalty=l2, logistic_regression__solver=liblinear;, score=0.237 total time=   0.6s\n",
      "[CV 2/2] END random_forest__max_features=None, random_forest__min_samples_split=2, random_forest__n_estimators=50;, score=0.925 total time=  14.7s\n",
      "[CV 2/2] END random_forest__max_features=None, random_forest__min_samples_split=10, random_forest__n_estimators=50;, score=0.923 total time=  17.1s\n",
      "[CV 1/2] END random_forest__max_features=sqrt, random_forest__min_samples_split=2, random_forest__n_estimators=200;, score=0.938 total time=   7.3s\n",
      "[CV 1/2] END random_forest__max_features=sqrt, random_forest__min_samples_split=5, random_forest__n_estimators=200;, score=0.933 total time=   3.9s\n",
      "[CV 2/2] END random_forest__max_features=log2, random_forest__min_samples_split=2, random_forest__n_estimators=100;, score=0.838 total time=   3.0s\n",
      "[CV 1/2] END random_forest__max_features=log2, random_forest__min_samples_split=10, random_forest__n_estimators=100;, score=0.834 total time=   1.5s\n",
      "[CV 2/2] END k_neighbors__n_neighbors=5, k_neighbors__weights=uniform;, score=0.909 total time=   1.1s\n",
      "[CV 2/2] END svc__C=0.1, svc__coef0=0, svc__degree=2, svc__kernel=poly;, score=0.119 total time=  19.0s\n",
      "[CV 2/2] END svc__C=0.1, svc__coef0=1, svc__degree=2, svc__kernel=rbf;, score=0.171 total time=  16.5s\n",
      "[CV 2/2] END svc__C=1, svc__coef0=0, svc__degree=2, svc__kernel=linear;, score=0.976 total time=   9.8s\n",
      "[CV 2/2] END svc__C=1, svc__coef0=0, svc__degree=3, svc__kernel=poly;, score=0.561 total time=  25.1s\n",
      "[CV 1/2] END svc__C=10, svc__coef0=0, svc__degree=2, svc__kernel=linear;, score=0.984 total time=   9.9s\n",
      "[CV 2/2] END svc__C=10, svc__coef0=0, svc__degree=2, svc__kernel=rbf;, score=0.969 total time=  19.5s\n",
      "[CV 2/2] END svc__C=10, svc__coef0=1, svc__degree=3, svc__kernel=linear;, score=0.979 total time=   8.6s\n",
      "[CV 1/2] END extra_trees__max_features=auto, extra_trees__min_samples_split=2, extra_trees__n_estimators=100;, score=nan total time=   0.3s\n",
      "[CV 2/2] END extra_trees__max_features=auto, extra_trees__min_samples_split=10, extra_trees__n_estimators=100;, score=nan total time=   0.3s\n",
      "[CV 2/2] END extra_trees__max_features=sqrt, extra_trees__min_samples_split=5, extra_trees__n_estimators=100;, score=0.929 total time=   2.4s\n",
      "[CV 1/2] END extra_trees__max_features=log2, extra_trees__min_samples_split=2, extra_trees__n_estimators=50;, score=0.856 total time=   1.6s\n",
      "[CV 2/2] END extra_trees__max_features=log2, extra_trees__min_samples_split=5, extra_trees__n_estimators=50;, score=0.847 total time=   1.4s\n",
      "[CV 1/2] END logistic_regression__C=0.1, logistic_regression__penalty=l2, logistic_regression__solver=liblinear;, score=0.248 total time=   0.6s\n",
      "[CV 2/2] END random_forest__max_features=auto, random_forest__min_samples_split=2, random_forest__n_estimators=50;, score=nan total time=   0.3s\n",
      "[CV 2/2] END random_forest__max_features=auto, random_forest__min_samples_split=10, random_forest__n_estimators=50;, score=nan total time=   0.3s\n",
      "[CV 1/2] END random_forest__max_features=sqrt, random_forest__min_samples_split=5, random_forest__n_estimators=100;, score=0.932 total time=   2.2s\n",
      "[CV 1/2] END random_forest__max_features=log2, random_forest__min_samples_split=2, random_forest__n_estimators=50;, score=0.821 total time=   1.6s\n",
      "[CV 2/2] END random_forest__max_features=log2, random_forest__min_samples_split=5, random_forest__n_estimators=100;, score=0.850 total time=   1.6s\n",
      "[CV 1/2] END k_neighbors__n_neighbors=5, k_neighbors__weights=uniform;, score=0.930 total time=   1.2s\n",
      "[CV 1/2] END svc__C=0.1, svc__coef0=0, svc__degree=2, svc__kernel=rbf;, score=0.106 total time=  16.1s\n",
      "[CV 1/2] END svc__C=0.1, svc__coef0=1, svc__degree=2, svc__kernel=poly;, score=0.937 total time=  12.4s\n",
      "[CV 1/2] END svc__C=0.1, svc__coef0=1, svc__degree=3, svc__kernel=rbf;, score=0.106 total time=  16.0s\n",
      "[CV 1/2] END svc__C=1, svc__coef0=0, svc__degree=3, svc__kernel=rbf;, score=0.972 total time=  19.3s\n",
      "[CV 1/2] END svc__C=1, svc__coef0=1, svc__degree=3, svc__kernel=poly;, score=0.979 total time=  16.0s\n",
      "[CV 1/2] END svc__C=10, svc__coef0=0, svc__degree=3, svc__kernel=poly;, score=0.648 total time=  24.4s\n",
      "[CV 1/2] END svc__C=10, svc__coef0=1, svc__degree=3, svc__kernel=sigmoid;, score=0.955 total time=   5.4s\n",
      "[CV 2/2] END extra_trees__max_features=None, extra_trees__min_samples_split=2, extra_trees__n_estimators=200;, score=nan total time=   0.3s\n",
      "[CV 1/2] END extra_trees__max_features=None, extra_trees__min_samples_split=10, extra_trees__n_estimators=200;, score=nan total time=   0.3s\n",
      "[CV 1/2] END extra_trees__max_features=sqrt, extra_trees__min_samples_split=5, extra_trees__n_estimators=200;, score=0.922 total time=   4.0s\n",
      "[CV 2/2] END extra_trees__max_features=log2, extra_trees__min_samples_split=5, extra_trees__n_estimators=100;, score=0.858 total time=   1.8s\n",
      "[CV 1/2] END logistic_regression__C=0.1, logistic_regression__penalty=l2, logistic_regression__solver=saga;, score=0.228 total time=   0.7s\n",
      "[CV 1/2] END random_forest__max_features=None, random_forest__min_samples_split=2, random_forest__n_estimators=200;, score=nan total time=   0.3s\n",
      "[CV 2/2] END random_forest__max_features=None, random_forest__min_samples_split=10, random_forest__n_estimators=50;, score=nan total time=   0.3s\n",
      "[CV 1/2] END random_forest__max_features=sqrt, random_forest__min_samples_split=5, random_forest__n_estimators=50;, score=0.937 total time=   2.0s\n",
      "[CV 1/2] END random_forest__max_features=sqrt, random_forest__min_samples_split=10, random_forest__n_estimators=200;, score=0.937 total time=   2.6s\n",
      "[CV 2/2] END random_forest__max_features=log2, random_forest__min_samples_split=10, random_forest__n_estimators=100;, score=0.846 total time=   1.2s\n",
      "[CV 2/2] END k_neighbors__n_neighbors=7, k_neighbors__weights=uniform;, score=0.914 total time=   1.3s\n",
      "[CV 1/2] END svc__C=0.1, svc__coef0=0, svc__degree=3, svc__kernel=poly;, score=0.061 total time=  22.8s\n",
      "[CV 2/2] END svc__C=0.1, svc__coef0=1, svc__degree=2, svc__kernel=sigmoid;, score=0.000 total time=  13.6s\n",
      "[CV 2/2] END svc__C=1, svc__coef0=0, svc__degree=2, svc__kernel=poly;, score=0.877 total time=  20.7s\n",
      "[CV 2/2] END svc__C=1, svc__coef0=1, svc__degree=2, svc__kernel=sigmoid;, score=0.960 total time=   9.7s\n",
      "[CV 1/2] END svc__C=10, svc__coef0=0, svc__degree=2, svc__kernel=linear;, score=0.984 total time=   8.9s\n",
      "[CV 2/2] END svc__C=10, svc__coef0=0, svc__degree=2, svc__kernel=sigmoid;, score=0.970 total time=   6.6s\n",
      "[CV 1/2] END svc__C=10, svc__coef0=0, svc__degree=3, svc__kernel=rbf;, score=0.973 total time=  18.7s\n",
      "[CV 1/2] END svc__C=10, svc__coef0=1, svc__degree=3, svc__kernel=sigmoid;, score=0.955 total time=   5.4s\n",
      "[CV 2/2] END extra_trees__max_features=None, extra_trees__min_samples_split=2, extra_trees__n_estimators=200;, score=0.953 total time=  37.2s\n",
      "[CV 1/2] END extra_trees__max_features=sqrt, extra_trees__min_samples_split=5, extra_trees__n_estimators=200;, score=0.922 total time=   4.5s\n",
      "[CV 1/2] END extra_trees__max_features=log2, extra_trees__min_samples_split=5, extra_trees__n_estimators=50;, score=0.850 total time=   3.0s\n",
      "[CV 2/2] END extra_trees__max_features=log2, extra_trees__min_samples_split=10, extra_trees__n_estimators=50;, score=0.826 total time=   1.4s\n",
      "[CV 1/2] END logistic_regression__C=0.1, logistic_regression__penalty=l2, logistic_regression__solver=saga;, score=0.231 total time=   0.7s\n",
      "[CV 1/2] END random_forest__max_features=None, random_forest__min_samples_split=5, random_forest__n_estimators=100;, score=0.920 total time=  27.1s\n",
      "[CV 2/2] END random_forest__max_features=sqrt, random_forest__min_samples_split=2, random_forest__n_estimators=50;, score=0.913 total time=   6.5s\n",
      "[CV 2/2] END random_forest__max_features=sqrt, random_forest__min_samples_split=2, random_forest__n_estimators=200;, score=0.941 total time=   6.4s\n",
      "[CV 1/2] END random_forest__max_features=sqrt, random_forest__min_samples_split=10, random_forest__n_estimators=200;, score=0.937 total time=   4.7s\n",
      "[CV 2/2] END random_forest__max_features=log2, random_forest__min_samples_split=5, random_forest__n_estimators=200;, score=0.853 total time=   2.9s\n",
      "[CV 1/2] END k_neighbors__n_neighbors=5, k_neighbors__weights=distance;, score=0.938 total time=   1.1s\n",
      "[CV 1/2] END svc__C=0.1, svc__coef0=0, svc__degree=2, svc__kernel=poly;, score=0.103 total time=  18.9s\n",
      "[CV 1/2] END svc__C=0.1, svc__coef0=1, svc__degree=2, svc__kernel=rbf;, score=0.106 total time=  15.9s\n",
      "[CV 1/2] END svc__C=1, svc__coef0=0, svc__degree=2, svc__kernel=linear;, score=0.982 total time=   9.1s\n",
      "[CV 1/2] END svc__C=1, svc__coef0=0, svc__degree=3, svc__kernel=poly;, score=0.584 total time=  24.1s\n",
      "[CV 1/2] END svc__C=1, svc__coef0=1, svc__degree=3, svc__kernel=rbf;, score=0.972 total time=  20.1s\n",
      "[CV 2/2] END svc__C=10, svc__coef0=0, svc__degree=3, svc__kernel=rbf;, score=0.969 total time=  19.6s\n",
      "[CV 2/2] END extra_trees__max_features=auto, extra_trees__min_samples_split=2, extra_trees__n_estimators=50;, score=nan total time=   0.3s\n",
      "[CV 1/2] END extra_trees__max_features=auto, extra_trees__min_samples_split=10, extra_trees__n_estimators=50;, score=nan total time=   0.3s\n",
      "[CV 1/2] END extra_trees__max_features=sqrt, extra_trees__min_samples_split=5, extra_trees__n_estimators=50;, score=0.922 total time=   2.2s\n",
      "[CV 1/2] END extra_trees__max_features=sqrt, extra_trees__min_samples_split=10, extra_trees__n_estimators=100;, score=0.916 total time=   2.1s\n",
      "[CV 2/2] END extra_trees__max_features=log2, extra_trees__min_samples_split=5, extra_trees__n_estimators=100;, score=0.858 total time=   1.5s\n",
      "[CV 2/2] END logistic_regression__C=0.1, logistic_regression__penalty=l2, logistic_regression__solver=liblinear;, score=0.237 total time=   0.6s\n",
      "[CV 1/2] END random_forest__max_features=auto, random_forest__min_samples_split=2, random_forest__n_estimators=50;, score=nan total time=   0.3s\n",
      "[CV 1/2] END random_forest__max_features=auto, random_forest__min_samples_split=10, random_forest__n_estimators=50;, score=nan total time=   0.4s\n",
      "[CV 2/2] END random_forest__max_features=sqrt, random_forest__min_samples_split=5, random_forest__n_estimators=100;, score=0.939 total time=   2.7s\n",
      "[CV 1/2] END random_forest__max_features=log2, random_forest__min_samples_split=2, random_forest__n_estimators=200;, score=0.831 total time=   2.3s\n",
      "[CV 2/2] END k_neighbors__n_neighbors=3, k_neighbors__weights=uniform;, score=0.911 total time=   1.2s\n",
      "[CV 1/2] END svc__C=0.1, svc__coef0=0, svc__degree=2, svc__kernel=linear;, score=0.672 total time=  13.7s\n",
      "[CV 2/2] END svc__C=0.1, svc__coef0=1, svc__degree=2, svc__kernel=linear;, score=0.714 total time=  13.0s\n",
      "[CV 2/2] END svc__C=0.1, svc__coef0=1, svc__degree=3, svc__kernel=linear;, score=0.714 total time=  13.2s\n",
      "[CV 1/2] END svc__C=1, svc__coef0=0, svc__degree=2, svc__kernel=sigmoid;, score=0.981 total time=   8.3s\n",
      "[CV 1/2] END svc__C=1, svc__coef0=0, svc__degree=3, svc__kernel=sigmoid;, score=0.981 total time=   8.4s\n",
      "[CV 1/2] END svc__C=1, svc__coef0=1, svc__degree=2, svc__kernel=poly;, score=0.984 total time=  11.2s\n",
      "[CV 2/2] END svc__C=1, svc__coef0=1, svc__degree=3, svc__kernel=rbf;, score=0.964 total time=  19.3s\n",
      "[CV 2/2] END svc__C=10, svc__coef0=0, svc__degree=3, svc__kernel=sigmoid;, score=0.970 total time=   7.1s\n",
      "[CV 2/2] END svc__C=10, svc__coef0=1, svc__degree=2, svc__kernel=rbf;, score=0.969 total time=  17.1s\n",
      "[CV 2/2] END extra_trees__max_features=None, extra_trees__min_samples_split=5, extra_trees__n_estimators=50;, score=nan total time=   0.3s\n",
      "[CV 1/2] END extra_trees__max_features=sqrt, extra_trees__min_samples_split=2, extra_trees__n_estimators=50;, score=0.913 total time=   1.7s\n",
      "[CV 1/2] END extra_trees__max_features=sqrt, extra_trees__min_samples_split=10, extra_trees__n_estimators=50;, score=0.915 total time=   2.2s\n",
      "[CV 1/2] END extra_trees__max_features=log2, extra_trees__min_samples_split=5, extra_trees__n_estimators=50;, score=0.850 total time=   1.6s\n",
      "[CV 1/2] END extra_trees__max_features=log2, extra_trees__min_samples_split=10, extra_trees__n_estimators=200;, score=0.826 total time=   1.5s\n",
      "[CV 1/2] END logistic_regression__C=10, logistic_regression__penalty=l2, logistic_regression__solver=saga;, score=0.979 total time=   0.8s\n",
      "[CV 1/2] END random_forest__max_features=None, random_forest__min_samples_split=5, random_forest__n_estimators=200;, score=nan total time=   0.4s\n",
      "[CV 2/2] END random_forest__max_features=sqrt, random_forest__min_samples_split=2, random_forest__n_estimators=200;, score=0.941 total time=   2.7s\n",
      "[CV 1/2] END random_forest__max_features=log2, random_forest__min_samples_split=2, random_forest__n_estimators=100;, score=0.824 total time=   1.8s\n",
      "[CV 1/2] END random_forest__max_features=log2, random_forest__min_samples_split=10, random_forest__n_estimators=50;, score=0.841 total time=   1.2s\n",
      "[CV 2/2] END k_neighbors__n_neighbors=5, k_neighbors__weights=uniform;, score=0.909 total time=   1.1s\n",
      "[CV 2/2] END svc__C=0.1, svc__coef0=0, svc__degree=2, svc__kernel=poly;, score=0.119 total time=  18.3s\n",
      "[CV 2/2] END svc__C=0.1, svc__coef0=1, svc__degree=2, svc__kernel=rbf;, score=0.171 total time=  16.1s\n",
      "[CV 2/2] END svc__C=1, svc__coef0=0, svc__degree=2, svc__kernel=linear;, score=0.976 total time=   8.9s\n",
      "[CV 1/2] END svc__C=1, svc__coef0=0, svc__degree=3, svc__kernel=rbf;, score=0.972 total time=  18.4s\n",
      "[CV 1/2] END svc__C=1, svc__coef0=1, svc__degree=3, svc__kernel=poly;, score=0.979 total time=  15.6s\n",
      "[CV 1/2] END svc__C=10, svc__coef0=0, svc__degree=3, svc__kernel=poly;, score=0.648 total time=  23.9s\n",
      "[CV 2/2] END svc__C=10, svc__coef0=1, svc__degree=3, svc__kernel=sigmoid;, score=0.947 total time=   4.8s\n",
      "[CV 1/2] END extra_trees__max_features=None, extra_trees__min_samples_split=2, extra_trees__n_estimators=200;, score=0.956 total time=  37.5s\n",
      "[CV 2/2] END extra_trees__max_features=sqrt, extra_trees__min_samples_split=10, extra_trees__n_estimators=50;, score=0.912 total time=   3.6s\n",
      "[CV 1/2] END extra_trees__max_features=log2, extra_trees__min_samples_split=2, extra_trees__n_estimators=200;, score=0.864 total time=   4.0s\n",
      "[CV 2/2] END extra_trees__max_features=log2, extra_trees__min_samples_split=10, extra_trees__n_estimators=200;, score=0.841 total time=   1.5s\n",
      "[CV 2/2] END logistic_regression__C=10, logistic_regression__penalty=l2, logistic_regression__solver=saga;, score=0.971 total time=   0.8s\n",
      "[CV 1/2] END random_forest__max_features=None, random_forest__min_samples_split=5, random_forest__n_estimators=200;, score=0.925 total time=  39.8s\n",
      "[CV 1/2] END random_forest__max_features=sqrt, random_forest__min_samples_split=10, random_forest__n_estimators=100;, score=0.943 total time=   3.5s\n",
      "[CV 1/2] END random_forest__max_features=log2, random_forest__min_samples_split=5, random_forest__n_estimators=50;, score=0.847 total time=   3.0s\n",
      "[CV 2/2] END random_forest__max_features=log2, random_forest__min_samples_split=10, random_forest__n_estimators=100;, score=0.846 total time=   1.4s\n",
      "[CV 2/2] END k_neighbors__n_neighbors=5, k_neighbors__weights=distance;, score=0.917 total time=   1.1s\n",
      "[CV 1/2] END svc__C=0.1, svc__coef0=0, svc__degree=2, svc__kernel=rbf;, score=0.106 total time=  16.5s\n",
      "[CV 2/2] END svc__C=0.1, svc__coef0=1, svc__degree=2, svc__kernel=poly;, score=0.942 total time=  12.9s\n",
      "[CV 2/2] END svc__C=0.1, svc__coef0=1, svc__degree=3, svc__kernel=sigmoid;, score=0.000 total time=  13.9s\n",
      "[CV 2/2] END svc__C=1, svc__coef0=0, svc__degree=3, svc__kernel=linear;, score=0.976 total time=   9.7s\n",
      "[CV 2/2] END svc__C=1, svc__coef0=1, svc__degree=2, svc__kernel=linear;, score=0.976 total time=   9.5s\n",
      "[CV 2/2] END svc__C=1, svc__coef0=1, svc__degree=3, svc__kernel=linear;, score=0.976 total time=   9.8s\n",
      "[CV 2/2] END svc__C=10, svc__coef0=0, svc__degree=2, svc__kernel=poly;, score=0.893 total time=  22.5s\n",
      "[CV 1/2] END svc__C=10, svc__coef0=1, svc__degree=2, svc__kernel=poly;, score=0.984 total time=  10.7s\n",
      "[CV 1/2] END svc__C=10, svc__coef0=1, svc__degree=3, svc__kernel=rbf;, score=0.973 total time=  13.8s\n",
      "[CV 2/2] END extra_trees__max_features=auto, extra_trees__min_samples_split=5, extra_trees__n_estimators=200;, score=nan total time=   0.3s\n",
      "[CV 1/2] END extra_trees__max_features=sqrt, extra_trees__min_samples_split=2, extra_trees__n_estimators=200;, score=0.925 total time=   3.2s\n",
      "[CV 1/2] END extra_trees__max_features=log2, extra_trees__min_samples_split=2, extra_trees__n_estimators=200;, score=0.864 total time=   2.5s\n",
      "[CV 1/2] END extra_trees__max_features=log2, extra_trees__min_samples_split=10, extra_trees__n_estimators=200;, score=0.826 total time=   1.4s\n",
      "[CV 1/2] END logistic_regression__C=10, logistic_regression__penalty=l2, logistic_regression__solver=saga;, score=0.979 total time=   0.8s\n",
      "[CV 2/2] END random_forest__max_features=auto, random_forest__min_samples_split=5, random_forest__n_estimators=200;, score=nan total time=   0.5s\n",
      "[CV 2/2] END random_forest__max_features=sqrt, random_forest__min_samples_split=2, random_forest__n_estimators=200;, score=0.941 total time=   2.8s\n",
      "[CV 2/2] END random_forest__max_features=log2, random_forest__min_samples_split=2, random_forest__n_estimators=100;, score=0.838 total time=   1.9s\n",
      "[CV 1/2] END random_forest__max_features=log2, random_forest__min_samples_split=10, random_forest__n_estimators=200;, score=0.837 total time=   1.4s\n",
      "[CV 1/2] END k_neighbors__n_neighbors=7, k_neighbors__weights=distance;, score=0.934 total time=   1.3s\n",
      "[CV 1/2] END svc__C=0.1, svc__coef0=0, svc__degree=3, svc__kernel=poly;, score=0.061 total time=  23.8s\n",
      "[CV 1/2] END svc__C=0.1, svc__coef0=1, svc__degree=2, svc__kernel=sigmoid;, score=0.000 total time=  13.8s\n",
      "[CV 1/2] END svc__C=1, svc__coef0=0, svc__degree=2, svc__kernel=poly;, score=0.893 total time=  21.6s\n",
      "[CV 1/2] END svc__C=1, svc__coef0=1, svc__degree=2, svc__kernel=sigmoid;, score=0.964 total time=   9.9s\n",
      "[CV 1/2] END svc__C=10, svc__coef0=0, svc__degree=2, svc__kernel=linear;, score=0.984 total time=   9.4s\n",
      "[CV 2/2] END svc__C=10, svc__coef0=0, svc__degree=2, svc__kernel=sigmoid;, score=0.970 total time=   6.8s\n",
      "[CV 1/2] END svc__C=10, svc__coef0=0, svc__degree=3, svc__kernel=rbf;, score=0.973 total time=  19.1s\n",
      "[CV 1/2] END extra_trees__max_features=None, extra_trees__min_samples_split=2, extra_trees__n_estimators=50;, score=nan total time=   0.3s\n",
      "[CV 1/2] END extra_trees__max_features=None, extra_trees__min_samples_split=10, extra_trees__n_estimators=50;, score=nan total time=   0.3s\n",
      "[CV 1/2] END extra_trees__max_features=sqrt, extra_trees__min_samples_split=5, extra_trees__n_estimators=50;, score=0.922 total time=   1.9s\n",
      "[CV 2/2] END extra_trees__max_features=sqrt, extra_trees__min_samples_split=10, extra_trees__n_estimators=100;, score=0.922 total time=   1.8s\n",
      "[CV 1/2] END extra_trees__max_features=log2, extra_trees__min_samples_split=5, extra_trees__n_estimators=100;, score=0.839 total time=   1.7s\n",
      "[CV 2/2] END extra_trees__max_features=log2, extra_trees__min_samples_split=10, extra_trees__n_estimators=200;, score=0.841 total time=   1.4s\n",
      "[CV 2/2] END logistic_regression__C=10, logistic_regression__penalty=l2, logistic_regression__solver=saga;, score=0.971 total time=   0.8s\n",
      "[CV 2/2] END random_forest__max_features=None, random_forest__min_samples_split=5, random_forest__n_estimators=200;, score=nan total time=   0.3s\n",
      "[CV 1/2] END random_forest__max_features=sqrt, random_forest__min_samples_split=2, random_forest__n_estimators=100;, score=0.935 total time=   1.9s\n",
      "[CV 2/2] END random_forest__max_features=sqrt, random_forest__min_samples_split=10, random_forest__n_estimators=50;, score=0.928 total time=   2.0s\n",
      "[CV 1/2] END random_forest__max_features=log2, random_forest__min_samples_split=5, random_forest__n_estimators=200;, score=0.841 total time=   2.1s\n",
      "[CV 1/2] END k_neighbors__n_neighbors=7, k_neighbors__weights=uniform;, score=0.929 total time=   1.3s\n",
      "[CV 1/2] END svc__C=0.1, svc__coef0=0, svc__degree=3, svc__kernel=linear;, score=0.672 total time=  13.2s\n",
      "[CV 2/2] END svc__C=0.1, svc__coef0=0, svc__degree=3, svc__kernel=sigmoid;, score=0.701 total time=  12.8s\n",
      "[CV 2/2] END svc__C=0.1, svc__coef0=1, svc__degree=3, svc__kernel=poly;, score=0.966 total time=  13.1s\n",
      "[CV 1/2] END svc__C=1, svc__coef0=0, svc__degree=2, svc__kernel=sigmoid;, score=0.981 total time=   8.1s\n",
      "[CV 1/2] END svc__C=1, svc__coef0=0, svc__degree=3, svc__kernel=sigmoid;, score=0.981 total time=   8.2s\n",
      "[CV 1/2] END svc__C=1, svc__coef0=1, svc__degree=2, svc__kernel=poly;, score=0.984 total time=  10.5s\n",
      "[CV 2/2] END svc__C=1, svc__coef0=1, svc__degree=3, svc__kernel=rbf;, score=0.964 total time=  18.1s\n",
      "[CV 2/2] END svc__C=10, svc__coef0=0, svc__degree=3, svc__kernel=sigmoid;, score=0.970 total time=   6.7s\n",
      "[CV 1/2] END svc__C=10, svc__coef0=1, svc__degree=2, svc__kernel=rbf;, score=0.973 total time=  15.9s\n",
      "[CV 1/2] END extra_trees__max_features=None, extra_trees__min_samples_split=5, extra_trees__n_estimators=50;, score=0.954 total time=  15.0s\n",
      "[CV 1/2] END extra_trees__max_features=None, extra_trees__min_samples_split=10, extra_trees__n_estimators=50;, score=0.951 total time=  13.6s\n",
      "[CV 1/2] END extra_trees__max_features=sqrt, extra_trees__min_samples_split=2, extra_trees__n_estimators=100;, score=0.923 total time=   6.8s\n",
      "[CV 1/2] END extra_trees__max_features=sqrt, extra_trees__min_samples_split=5, extra_trees__n_estimators=50;, score=0.922 total time=   3.9s\n",
      "[CV 2/2] END extra_trees__max_features=sqrt, extra_trees__min_samples_split=10, extra_trees__n_estimators=200;, score=0.923 total time=   5.4s\n",
      "[CV 1/2] END extra_trees__max_features=log2, extra_trees__min_samples_split=10, extra_trees__n_estimators=100;, score=0.823 total time=   1.5s\n",
      "[CV 1/2] END logistic_regression__C=1, logistic_regression__penalty=l2, logistic_regression__solver=saga;, score=0.936 total time=   0.7s\n",
      "[CV 1/2] END random_forest__max_features=None, random_forest__min_samples_split=5, random_forest__n_estimators=50;, score=0.920 total time=  12.7s\n",
      "[CV 1/2] END random_forest__max_features=None, random_forest__min_samples_split=10, random_forest__n_estimators=50;, score=0.923 total time=  17.0s\n",
      "[CV 1/2] END random_forest__max_features=sqrt, random_forest__min_samples_split=2, random_forest__n_estimators=100;, score=0.935 total time=   6.4s\n",
      "[CV 2/2] END random_forest__max_features=sqrt, random_forest__min_samples_split=5, random_forest__n_estimators=50;, score=0.929 total time=   4.1s\n",
      "[CV 2/2] END random_forest__max_features=sqrt, random_forest__min_samples_split=10, random_forest__n_estimators=200;, score=0.937 total time=   4.4s\n",
      "[CV 1/2] END random_forest__max_features=log2, random_forest__min_samples_split=5, random_forest__n_estimators=200;, score=0.841 total time=   3.0s\n",
      "[CV 2/2] END k_neighbors__n_neighbors=7, k_neighbors__weights=uniform;, score=0.914 total time=   1.1s\n",
      "[CV 2/2] END svc__C=0.1, svc__coef0=0, svc__degree=3, svc__kernel=linear;, score=0.714 total time=  14.1s\n",
      "[CV 2/2] END svc__C=0.1, svc__coef0=1, svc__degree=2, svc__kernel=linear;, score=0.714 total time=  13.2s\n",
      "[CV 2/2] END svc__C=0.1, svc__coef0=1, svc__degree=3, svc__kernel=poly;, score=0.966 total time=  13.5s\n",
      "[CV 2/2] END svc__C=1, svc__coef0=0, svc__degree=2, svc__kernel=sigmoid;, score=0.977 total time=   8.6s\n",
      "[CV 2/2] END svc__C=1, svc__coef0=0, svc__degree=3, svc__kernel=sigmoid;, score=0.977 total time=   8.4s\n",
      "[CV 1/2] END svc__C=1, svc__coef0=1, svc__degree=2, svc__kernel=poly;, score=0.984 total time=  11.5s\n",
      "[CV 2/2] END svc__C=1, svc__coef0=1, svc__degree=3, svc__kernel=rbf;, score=0.964 total time=  19.5s\n",
      "[CV 2/2] END svc__C=10, svc__coef0=0, svc__degree=3, svc__kernel=sigmoid;, score=0.970 total time=   6.8s\n",
      "[CV 1/2] END svc__C=10, svc__coef0=1, svc__degree=2, svc__kernel=rbf;, score=0.973 total time=  16.6s\n",
      "[CV 1/2] END extra_trees__max_features=auto, extra_trees__min_samples_split=5, extra_trees__n_estimators=50;, score=nan total time=   0.3s\n",
      "[CV 2/2] END extra_trees__max_features=auto, extra_trees__min_samples_split=10, extra_trees__n_estimators=200;, score=nan total time=   0.3s\n",
      "[CV 1/2] END extra_trees__max_features=sqrt, extra_trees__min_samples_split=5, extra_trees__n_estimators=200;, score=0.922 total time=   2.7s\n",
      "[CV 1/2] END extra_trees__max_features=log2, extra_trees__min_samples_split=2, extra_trees__n_estimators=100;, score=0.853 total time=   2.3s\n",
      "[CV 1/2] END extra_trees__max_features=log2, extra_trees__min_samples_split=10, extra_trees__n_estimators=100;, score=0.823 total time=   1.3s\n",
      "[CV 2/2] END logistic_regression__C=1, logistic_regression__penalty=l2, logistic_regression__solver=saga;, score=0.941 total time=   0.7s\n",
      "[CV 2/2] END random_forest__max_features=auto, random_forest__min_samples_split=5, random_forest__n_estimators=50;, score=nan total time=   0.4s\n",
      "[CV 2/2] END random_forest__max_features=sqrt, random_forest__min_samples_split=2, random_forest__n_estimators=50;, score=0.913 total time=   2.1s\n",
      "[CV 2/2] END random_forest__max_features=sqrt, random_forest__min_samples_split=10, random_forest__n_estimators=200;, score=0.937 total time=   2.5s\n",
      "[CV 1/2] END random_forest__max_features=log2, random_forest__min_samples_split=10, random_forest__n_estimators=100;, score=0.834 total time=   1.2s\n",
      "[CV 1/2] END k_neighbors__n_neighbors=5, k_neighbors__weights=distance;, score=0.938 total time=   1.3s\n",
      "[CV 1/2] END svc__C=0.1, svc__coef0=0, svc__degree=3, svc__kernel=linear;, score=0.672 total time=  13.6s\n",
      "[CV 1/2] END svc__C=0.1, svc__coef0=1, svc__degree=2, svc__kernel=linear;, score=0.672 total time=  13.1s\n",
      "[CV 1/2] END svc__C=0.1, svc__coef0=1, svc__degree=3, svc__kernel=poly;, score=0.974 total time=  13.0s\n",
      "[CV 2/2] END svc__C=1, svc__coef0=0, svc__degree=2, svc__kernel=rbf;, score=0.964 total time=  18.3s\n",
      "[CV 1/2] END svc__C=1, svc__coef0=1, svc__degree=2, svc__kernel=rbf;, score=0.972 total time=  18.9s\n",
      "[CV 1/2] END svc__C=10, svc__coef0=0, svc__degree=2, svc__kernel=rbf;, score=0.973 total time=  19.5s\n",
      "[CV 1/2] END svc__C=10, svc__coef0=1, svc__degree=2, svc__kernel=sigmoid;, score=0.955 total time=   5.9s\n",
      "[CV 2/2] END svc__C=10, svc__coef0=1, svc__degree=3, svc__kernel=poly;, score=0.971 total time=  12.5s\n",
      "[CV 2/2] END extra_trees__max_features=None, extra_trees__min_samples_split=5, extra_trees__n_estimators=100;, score=nan total time=   0.4s\n",
      "[CV 1/2] END extra_trees__max_features=sqrt, extra_trees__min_samples_split=2, extra_trees__n_estimators=200;, score=0.925 total time=   3.3s\n",
      "[CV 1/2] END extra_trees__max_features=log2, extra_trees__min_samples_split=2, extra_trees__n_estimators=100;, score=0.853 total time=   1.8s\n",
      "[CV 2/2] END extra_trees__max_features=log2, extra_trees__min_samples_split=10, extra_trees__n_estimators=50;, score=0.826 total time=   1.6s\n",
      "[CV 1/2] END logistic_regression__C=1, logistic_regression__penalty=l2, logistic_regression__solver=liblinear;, score=0.936 total time=   0.6s\n",
      "[CV 1/2] END random_forest__max_features=None, random_forest__min_samples_split=2, random_forest__n_estimators=100;, score=nan total time=   0.4s\n",
      "[CV 2/2] END random_forest__max_features=None, random_forest__min_samples_split=10, random_forest__n_estimators=200;, score=nan total time=   0.4s\n",
      "[CV 2/2] END random_forest__max_features=sqrt, random_forest__min_samples_split=5, random_forest__n_estimators=100;, score=0.939 total time=   2.0s\n",
      "[CV 2/2] END random_forest__max_features=sqrt, random_forest__min_samples_split=10, random_forest__n_estimators=200;, score=0.937 total time=   2.8s\n",
      "[CV 2/2] END random_forest__max_features=log2, random_forest__min_samples_split=10, random_forest__n_estimators=200;, score=0.850 total time=   1.2s\n",
      "[CV 2/2] END k_neighbors__n_neighbors=7, k_neighbors__weights=distance;, score=0.921 total time=   1.2s\n",
      "[CV 2/2] END svc__C=0.1, svc__coef0=0, svc__degree=2, svc__kernel=rbf;, score=0.171 total time=  15.8s\n",
      "[CV 2/2] END svc__C=0.1, svc__coef0=1, svc__degree=2, svc__kernel=poly;, score=0.942 total time=  12.0s\n",
      "[CV 1/2] END svc__C=0.1, svc__coef0=1, svc__degree=3, svc__kernel=rbf;, score=0.106 total time=  15.5s\n",
      "[CV 2/2] END svc__C=1, svc__coef0=0, svc__degree=3, svc__kernel=poly;, score=0.561 total time=  23.1s\n",
      "[CV 2/2] END svc__C=1, svc__coef0=1, svc__degree=3, svc__kernel=sigmoid;, score=0.960 total time=   9.7s\n",
      "[CV 2/2] END svc__C=10, svc__coef0=0, svc__degree=3, svc__kernel=linear;, score=0.979 total time=   8.7s\n",
      "[CV 1/2] END svc__C=10, svc__coef0=1, svc__degree=2, svc__kernel=linear;, score=0.984 total time=   9.0s\n",
      "[CV 1/2] END svc__C=10, svc__coef0=1, svc__degree=3, svc__kernel=linear;, score=0.984 total time=   8.7s\n",
      "[CV 2/2] END extra_trees__max_features=None, extra_trees__min_samples_split=2, extra_trees__n_estimators=100;, score=0.956 total time=  23.4s\n",
      "[CV 1/2] END extra_trees__max_features=None, extra_trees__min_samples_split=10, extra_trees__n_estimators=200;, score=0.955 total time=  21.5s\n",
      "[CV 2/2] END extra_trees__max_features=log2, extra_trees__min_samples_split=10, extra_trees__n_estimators=100;, score=0.834 total time=   1.3s\n",
      "[CV 2/2] END logistic_regression__C=1, logistic_regression__penalty=l2, logistic_regression__solver=saga;, score=0.941 total time=   0.7s\n",
      "[CV 2/2] END random_forest__max_features=None, random_forest__min_samples_split=5, random_forest__n_estimators=100;, score=0.920 total time=  26.0s\n",
      "[CV 2/2] END random_forest__max_features=None, random_forest__min_samples_split=10, random_forest__n_estimators=200;, score=0.923 total time=  21.8s\n",
      "[CV 1/2] END k_neighbors__n_neighbors=7, k_neighbors__weights=uniform;, score=0.929 total time=   1.1s\n",
      "[CV 1/2] END svc__C=0.1, svc__coef0=0, svc__degree=3, svc__kernel=poly;, score=0.061 total time=  23.9s\n",
      "[CV 1/2] END svc__C=0.1, svc__coef0=1, svc__degree=2, svc__kernel=sigmoid;, score=0.000 total time=  13.7s\n",
      "[CV 1/2] END svc__C=1, svc__coef0=0, svc__degree=2, svc__kernel=poly;, score=0.893 total time=  22.1s\n",
      "[CV 2/2] END svc__C=1, svc__coef0=1, svc__degree=2, svc__kernel=rbf;, score=0.964 total time=  20.8s\n",
      "[CV 1/2] END svc__C=10, svc__coef0=0, svc__degree=2, svc__kernel=sigmoid;, score=0.983 total time=   7.9s\n",
      "[CV 1/2] END svc__C=10, svc__coef0=0, svc__degree=3, svc__kernel=sigmoid;, score=0.983 total time=   7.9s\n",
      "[CV 2/2] END svc__C=10, svc__coef0=1, svc__degree=2, svc__kernel=rbf;, score=0.969 total time=  17.3s\n",
      "[CV 2/2] END extra_trees__max_features=auto, extra_trees__min_samples_split=5, extra_trees__n_estimators=50;, score=nan total time=   0.4s\n",
      "[CV 2/2] END extra_trees__max_features=sqrt, extra_trees__min_samples_split=2, extra_trees__n_estimators=50;, score=0.926 total time=   1.9s\n",
      "[CV 1/2] END extra_trees__max_features=sqrt, extra_trees__min_samples_split=10, extra_trees__n_estimators=50;, score=0.915 total time=   1.4s\n",
      "[CV 2/2] END extra_trees__max_features=log2, extra_trees__min_samples_split=2, extra_trees__n_estimators=200;, score=0.875 total time=   3.1s\n",
      "[CV 1/2] END logistic_regression__C=1, logistic_regression__penalty=l2, logistic_regression__solver=liblinear;, score=0.936 total time=   0.7s\n",
      "[CV 1/2] END random_forest__max_features=auto, random_forest__min_samples_split=5, random_forest__n_estimators=100;, score=nan total time=   0.4s\n",
      "[CV 1/2] END random_forest__max_features=sqrt, random_forest__min_samples_split=2, random_forest__n_estimators=100;, score=0.935 total time=   1.8s\n",
      "[CV 2/2] END random_forest__max_features=sqrt, random_forest__min_samples_split=10, random_forest__n_estimators=100;, score=0.933 total time=   1.6s\n",
      "[CV 1/2] END random_forest__max_features=log2, random_forest__min_samples_split=5, random_forest__n_estimators=100;, score=0.841 total time=   1.6s\n",
      "[CV 1/2] END k_neighbors__n_neighbors=3, k_neighbors__weights=uniform;, score=0.940 total time=   1.2s\n",
      "[CV 2/2] END svc__C=0.1, svc__coef0=0, svc__degree=2, svc__kernel=linear;, score=0.714 total time=  13.6s\n",
      "[CV 1/2] END svc__C=0.1, svc__coef0=0, svc__degree=3, svc__kernel=sigmoid;, score=0.660 total time=  13.1s\n",
      "[CV 1/2] END svc__C=0.1, svc__coef0=1, svc__degree=3, svc__kernel=linear;, score=0.672 total time=  13.0s\n",
      "[CV 1/2] END svc__C=1, svc__coef0=0, svc__degree=2, svc__kernel=rbf;, score=0.972 total time=  19.4s\n",
      "[CV 2/2] END svc__C=1, svc__coef0=1, svc__degree=2, svc__kernel=rbf;, score=0.964 total time=  18.6s\n",
      "[CV 2/2] END svc__C=10, svc__coef0=0, svc__degree=2, svc__kernel=rbf;, score=0.969 total time=  19.9s\n",
      "[CV 2/2] END svc__C=10, svc__coef0=1, svc__degree=3, svc__kernel=linear;, score=0.979 total time=   8.7s\n",
      "[CV 2/2] END extra_trees__max_features=None, extra_trees__min_samples_split=2, extra_trees__n_estimators=100;, score=nan total time=   0.3s\n",
      "[CV 2/2] END extra_trees__max_features=None, extra_trees__min_samples_split=10, extra_trees__n_estimators=100;, score=nan total time=   0.3s\n",
      "[CV 1/2] END extra_trees__max_features=sqrt, extra_trees__min_samples_split=5, extra_trees__n_estimators=100;, score=0.923 total time=   2.0s\n",
      "[CV 2/2] END extra_trees__max_features=sqrt, extra_trees__min_samples_split=10, extra_trees__n_estimators=200;, score=0.923 total time=   2.9s\n",
      "[CV 1/2] END extra_trees__max_features=log2, extra_trees__min_samples_split=10, extra_trees__n_estimators=100;, score=0.823 total time=   1.6s\n",
      "[CV 1/2] END logistic_regression__C=1, logistic_regression__penalty=l2, logistic_regression__solver=saga;, score=0.937 total time=   0.7s\n",
      "[CV 2/2] END random_forest__max_features=None, random_forest__min_samples_split=5, random_forest__n_estimators=100;, score=nan total time=   0.4s\n",
      "[CV 2/2] END random_forest__max_features=sqrt, random_forest__min_samples_split=2, random_forest__n_estimators=100;, score=0.932 total time=   2.3s\n",
      "[CV 1/2] END random_forest__max_features=log2, random_forest__min_samples_split=2, random_forest__n_estimators=50;, score=0.821 total time=   1.4s\n",
      "[CV 2/2] END random_forest__max_features=log2, random_forest__min_samples_split=5, random_forest__n_estimators=50;, score=0.834 total time=   1.1s\n",
      "[CV 1/2] END random_forest__max_features=log2, random_forest__min_samples_split=10, random_forest__n_estimators=200;, score=0.837 total time=   1.3s\n",
      "[CV 1/2] END k_neighbors__n_neighbors=7, k_neighbors__weights=distance;, score=0.934 total time=   1.2s\n",
      "[CV 2/2] END svc__C=0.1, svc__coef0=0, svc__degree=2, svc__kernel=sigmoid;, score=0.701 total time=  13.2s\n",
      "[CV 2/2] END svc__C=0.1, svc__coef0=1, svc__degree=2, svc__kernel=linear;, score=0.714 total time=  12.5s\n",
      "[CV 2/2] END svc__C=0.1, svc__coef0=1, svc__degree=3, svc__kernel=linear;, score=0.714 total time=  13.1s\n",
      "[CV 2/2] END svc__C=1, svc__coef0=0, svc__degree=2, svc__kernel=rbf;, score=0.964 total time=  18.2s\n",
      "[CV 1/2] END svc__C=1, svc__coef0=1, svc__degree=2, svc__kernel=sigmoid;, score=0.964 total time=   9.8s\n",
      "[CV 2/2] END svc__C=10, svc__coef0=0, svc__degree=2, svc__kernel=linear;, score=0.979 total time=   8.7s\n",
      "[CV 1/2] END svc__C=10, svc__coef0=0, svc__degree=2, svc__kernel=sigmoid;, score=0.983 total time=   7.5s\n",
      "[CV 2/2] END svc__C=10, svc__coef0=0, svc__degree=3, svc__kernel=rbf;, score=0.969 total time=  18.6s\n",
      "[CV 2/2] END extra_trees__max_features=None, extra_trees__min_samples_split=2, extra_trees__n_estimators=50;, score=0.944 total time=  16.4s\n",
      "[CV 2/2] END extra_trees__max_features=None, extra_trees__min_samples_split=10, extra_trees__n_estimators=100;, score=0.955 total time=  21.0s\n",
      "[CV 2/2] END extra_trees__max_features=sqrt, extra_trees__min_samples_split=5, extra_trees__n_estimators=200;, score=0.933 total time=   5.1s\n",
      "[CV 2/2] END extra_trees__max_features=log2, extra_trees__min_samples_split=5, extra_trees__n_estimators=50;, score=0.847 total time=   2.5s\n",
      "[CV 1/2] END extra_trees__max_features=log2, extra_trees__min_samples_split=10, extra_trees__n_estimators=200;, score=0.826 total time=   1.5s\n",
      "[CV 1/2] END logistic_regression__C=10, logistic_regression__penalty=l2, logistic_regression__solver=saga;, score=0.979 total time=   0.8s\n",
      "[CV 2/2] END random_forest__max_features=None, random_forest__min_samples_split=5, random_forest__n_estimators=200;, score=0.924 total time=  39.2s\n",
      "[CV 2/2] END random_forest__max_features=sqrt, random_forest__min_samples_split=5, random_forest__n_estimators=200;, score=0.941 total time=   4.1s\n",
      "[CV 2/2] END random_forest__max_features=log2, random_forest__min_samples_split=2, random_forest__n_estimators=200;, score=0.855 total time=   3.7s\n",
      "[CV 1/2] END random_forest__max_features=log2, random_forest__min_samples_split=10, random_forest__n_estimators=200;, score=0.837 total time=   1.1s\n",
      "[CV 1/2] END k_neighbors__n_neighbors=7, k_neighbors__weights=distance;, score=0.934 total time=   1.2s\n",
      "[CV 2/2] END svc__C=0.1, svc__coef0=0, svc__degree=2, svc__kernel=linear;, score=0.714 total time=  13.4s\n",
      "[CV 2/2] END svc__C=0.1, svc__coef0=0, svc__degree=3, svc__kernel=rbf;, score=0.171 total time=  15.9s\n",
      "[CV 2/2] END svc__C=0.1, svc__coef0=1, svc__degree=3, svc__kernel=rbf;, score=0.171 total time=  16.2s\n",
      "[CV 2/2] END svc__C=1, svc__coef0=0, svc__degree=3, svc__kernel=rbf;, score=0.964 total time=  19.3s\n",
      "[CV 1/2] END svc__C=1, svc__coef0=1, svc__degree=3, svc__kernel=poly;, score=0.979 total time=  17.2s\n",
      "[CV 1/2] END svc__C=10, svc__coef0=0, svc__degree=3, svc__kernel=poly;, score=0.648 total time=  25.1s\n",
      "[CV 2/2] END svc__C=10, svc__coef0=1, svc__degree=3, svc__kernel=sigmoid;, score=0.947 total time=   3.9s\n",
      "[CV 1/2] END extra_trees__max_features=auto, extra_trees__min_samples_split=2, extra_trees__n_estimators=200;, score=nan total time=   0.3s\n",
      "[CV 1/2] END extra_trees__max_features=auto, extra_trees__min_samples_split=10, extra_trees__n_estimators=100;, score=nan total time=   0.3s\n",
      "[CV 1/2] END extra_trees__max_features=sqrt, extra_trees__min_samples_split=5, extra_trees__n_estimators=100;, score=0.923 total time=   2.6s\n",
      "[CV 2/2] END extra_trees__max_features=log2, extra_trees__min_samples_split=2, extra_trees__n_estimators=50;, score=0.846 total time=   1.7s\n",
      "[CV 1/2] END extra_trees__max_features=log2, extra_trees__min_samples_split=5, extra_trees__n_estimators=200;, score=0.849 total time=   2.0s\n",
      "[CV 1/2] END logistic_regression__C=1, logistic_regression__penalty=l2, logistic_regression__solver=saga;, score=0.937 total time=   0.7s\n",
      "[CV 2/2] END random_forest__max_features=auto, random_forest__min_samples_split=2, random_forest__n_estimators=200;, score=nan total time=   0.3s\n",
      "[CV 2/2] END random_forest__max_features=auto, random_forest__min_samples_split=10, random_forest__n_estimators=200;, score=nan total time=   0.3s\n",
      "[CV 2/2] END random_forest__max_features=sqrt, random_forest__min_samples_split=5, random_forest__n_estimators=200;, score=0.941 total time=   2.5s\n",
      "[CV 1/2] END random_forest__max_features=log2, random_forest__min_samples_split=2, random_forest__n_estimators=100;, score=0.824 total time=   1.7s\n",
      "[CV 2/2] END random_forest__max_features=log2, random_forest__min_samples_split=10, random_forest__n_estimators=50;, score=0.834 total time=   1.0s\n",
      "[CV 2/2] END k_neighbors__n_neighbors=3, k_neighbors__weights=distance;, score=0.915 total time=   1.2s\n",
      "[CV 2/2] END svc__C=0.1, svc__coef0=0, svc__degree=2, svc__kernel=rbf;, score=0.171 total time=  16.3s\n",
      "[CV 2/2] END svc__C=0.1, svc__coef0=1, svc__degree=2, svc__kernel=poly;, score=0.942 total time=  12.5s\n",
      "[CV 1/2] END svc__C=0.1, svc__coef0=1, svc__degree=3, svc__kernel=sigmoid;, score=0.000 total time=  13.4s\n",
      "[CV 1/2] END svc__C=1, svc__coef0=0, svc__degree=3, svc__kernel=linear;, score=0.982 total time=   9.1s\n",
      "[CV 1/2] END svc__C=1, svc__coef0=1, svc__degree=2, svc__kernel=linear;, score=0.982 total time=   9.1s\n",
      "[CV 2/2] END svc__C=1, svc__coef0=1, svc__degree=2, svc__kernel=sigmoid;, score=0.960 total time=  10.2s\n",
      "[CV 2/2] END svc__C=10, svc__coef0=0, svc__degree=2, svc__kernel=poly;, score=0.893 total time=  22.0s\n",
      "[CV 2/2] END svc__C=10, svc__coef0=1, svc__degree=2, svc__kernel=poly;, score=0.975 total time=  10.8s\n",
      "[CV 2/2] END svc__C=10, svc__coef0=1, svc__degree=3, svc__kernel=rbf;, score=0.969 total time=  12.9s\n",
      "[CV 1/2] END extra_trees__max_features=None, extra_trees__min_samples_split=5, extra_trees__n_estimators=200;, score=nan total time=   0.4s\n",
      "[CV 2/2] END extra_trees__max_features=sqrt, extra_trees__min_samples_split=2, extra_trees__n_estimators=200;, score=0.944 total time=   3.4s\n",
      "[CV 2/2] END extra_trees__max_features=log2, extra_trees__min_samples_split=2, extra_trees__n_estimators=100;, score=0.853 total time=   1.9s\n",
      "[CV 2/2] END extra_trees__max_features=log2, extra_trees__min_samples_split=10, extra_trees__n_estimators=100;, score=0.834 total time=   1.4s\n",
      "[CV 1/2] END logistic_regression__C=10, logistic_regression__penalty=l2, logistic_regression__solver=liblinear;, score=0.979 total time=   0.6s\n",
      "[CV 1/2] END random_forest__max_features=None, random_forest__min_samples_split=5, random_forest__n_estimators=50;, score=nan total time=   0.3s\n",
      "[CV 1/2] END random_forest__max_features=None, random_forest__min_samples_split=10, random_forest__n_estimators=200;, score=nan total time=   0.4s\n",
      "[CV 1/2] END random_forest__max_features=sqrt, random_forest__min_samples_split=5, random_forest__n_estimators=200;, score=0.933 total time=   2.9s\n",
      "[CV 2/2] END random_forest__max_features=log2, random_forest__min_samples_split=2, random_forest__n_estimators=200;, score=0.855 total time=   2.3s\n",
      "[CV 2/2] END k_neighbors__n_neighbors=3, k_neighbors__weights=distance;, score=0.915 total time=   1.0s\n",
      "[CV 1/2] END svc__C=0.1, svc__coef0=0, svc__degree=2, svc__kernel=linear;, score=0.672 total time=  13.0s\n",
      "[CV 1/2] END svc__C=0.1, svc__coef0=0, svc__degree=3, svc__kernel=rbf;, score=0.106 total time=  15.3s\n",
      "[CV 1/2] END svc__C=0.1, svc__coef0=1, svc__degree=3, svc__kernel=sigmoid;, score=0.000 total time=  13.7s\n",
      "[CV 2/2] END svc__C=1, svc__coef0=0, svc__degree=3, svc__kernel=linear;, score=0.976 total time=   9.1s\n",
      "[CV 2/2] END svc__C=1, svc__coef0=1, svc__degree=2, svc__kernel=linear;, score=0.976 total time=   9.0s\n",
      "[CV 2/2] END svc__C=1, svc__coef0=1, svc__degree=3, svc__kernel=linear;, score=0.976 total time=   9.0s\n",
      "[CV 2/2] END svc__C=10, svc__coef0=0, svc__degree=2, svc__kernel=poly;, score=0.893 total time=  21.5s\n",
      "[CV 2/2] END svc__C=10, svc__coef0=1, svc__degree=2, svc__kernel=poly;, score=0.975 total time=  10.4s\n",
      "[CV 2/2] END svc__C=10, svc__coef0=1, svc__degree=3, svc__kernel=rbf;, score=0.969 total time=  12.2s\n",
      "[CV 2/2] END extra_trees__max_features=None, extra_trees__min_samples_split=5, extra_trees__n_estimators=200;, score=0.953 total time=  36.9s\n",
      "[CV 2/2] END extra_trees__max_features=sqrt, extra_trees__min_samples_split=5, extra_trees__n_estimators=100;, score=0.929 total time=   2.7s\n",
      "[CV 1/2] END extra_trees__max_features=log2, extra_trees__min_samples_split=2, extra_trees__n_estimators=50;, score=0.856 total time=   3.9s\n",
      "[CV 1/2] END extra_trees__max_features=log2, extra_trees__min_samples_split=5, extra_trees__n_estimators=100;, score=0.837 total time=   2.7s\n",
      "[CV 1/2] END logistic_regression__C=1, logistic_regression__penalty=l2, logistic_regression__solver=liblinear;, score=0.936 total time=   0.7s\n",
      "[CV 1/2] END random_forest__max_features=None, random_forest__min_samples_split=2, random_forest__n_estimators=200;, score=0.926 total time=  41.4s\n",
      "[CV 2/2] END random_forest__max_features=log2, random_forest__min_samples_split=2, random_forest__n_estimators=50;, score=0.832 total time=   3.2s\n",
      "[CV 2/2] END random_forest__max_features=log2, random_forest__min_samples_split=5, random_forest__n_estimators=100;, score=0.850 total time=   2.8s\n",
      "[CV 2/2] END random_forest__max_features=log2, random_forest__min_samples_split=10, random_forest__n_estimators=200;, score=0.850 total time=   0.8s\n",
      "[CV 2/2] END k_neighbors__n_neighbors=7, k_neighbors__weights=distance;, score=0.921 total time=   1.2s\n"
     ]
    }
   ],
   "source": [
    "from sklearn.model_selection import train_test_split, GridSearchCV\n",
    "from sklearn.ensemble import RandomForestClassifier, ExtraTreesClassifier\n",
    "from sklearn.linear_model import LogisticRegression\n",
    "from sklearn.neighbors import KNeighborsClassifier\n",
    "from sklearn.svm import SVC\n",
    "from sklearn.feature_extraction.text import TfidfVectorizer\n",
    "from sklearn.pipeline import Pipeline\n",
    "\n",
    "\n",
    "\n",
    "X_train, X_test, Y_train, Y_test = train_test_split(df['cleaned_mails'], df['spam'], test_size=0.2, random_state=42)\n",
    "\n",
    "models = {\n",
    "    'svc': SVC(probability=True),\n",
    "    'extra_trees': ExtraTreesClassifier(n_jobs=-1, random_state=42),\n",
    "    'logistic_regression': LogisticRegression(max_iter=1000),\n",
    "    'random_forest': RandomForestClassifier(n_jobs=-1, random_state=42),\n",
    "    'k_neighbors': KNeighborsClassifier()\n",
    "}\n",
    "\n",
    "param_grids = {\n",
    "    'svc': {\n",
    "        'svc__kernel': ['linear', 'poly', 'rbf', 'sigmoid'],\n",
    "        'svc__C': [0.1, 1, 10],\n",
    "        'svc__degree': [2, 3],  \n",
    "        'svc__coef0': [0, 1]    \n",
    "    },\n",
    "    'extra_trees': {\n",
    "        'extra_trees__n_estimators': [50, 100, 200],\n",
    "        'extra_trees__max_features': [None, 'sqrt', 'log2'],\n",
    "        'extra_trees__min_samples_split': [2, 5, 10]\n",
    "    },\n",
    "    'logistic_regression': {\n",
    "        'logistic_regression__penalty': ['l2'],\n",
    "        'logistic_regression__C': [0.1, 1, 10],\n",
    "        'logistic_regression__solver': ['liblinear', 'saga']\n",
    "    },\n",
    "    'random_forest': {\n",
    "        'random_forest__n_estimators': [50, 100, 200],\n",
    "        'random_forest__max_features': [None, 'sqrt', 'log2'],\n",
    "        'random_forest__min_samples_split': [2, 5, 10]\n",
    "    },\n",
    "    'k_neighbors': {\n",
    "        'k_neighbors__n_neighbors': [3, 5, 7],\n",
    "        'k_neighbors__weights': ['uniform', 'distance']\n",
    "    }\n",
    "}\n",
    "\n",
    "results = {}\n",
    "for model_name, model in models.items():\n",
    "    pipeline = Pipeline([\n",
    "        ('tfidf', TfidfVectorizer()),\n",
    "        (model_name, model)\n",
    "    ])\n",
    "    \n",
    "    param_grid = param_grids[model_name]\n",
    "    grid_search = GridSearchCV(pipeline, param_grid, cv=2, n_jobs=-1, scoring='f1', verbose=3)\n",
    "    grid_search.fit(X_train, Y_train)\n",
    "    \n",
    "    results[model_name] = grid_search.best_params_, grid_search.best_score_\n",
    "\n",
    "for model_name, (best_params, best_score) in results.items():\n",
    "    print(f\"Model: {model_name}\")\n",
    "    print(f\"Best Parameters: {best_params}\")\n",
    "    print(f\"Best Score: {best_score:.4f}\")\n",
    "    print()\n"
   ]
  },
  {
   "cell_type": "markdown",
   "id": "cf77e248-b84f-4338-88ac-3745e1006a07",
   "metadata": {},
   "source": [
    "My results:"
   ]
  },
  {
   "cell_type": "markdown",
   "id": "d36c1c44-7954-4bc0-ad87-5a93a95e6325",
   "metadata": {},
   "source": [
    "Model: svc\n",
    "Best Parameters: {'svc__C': 10, 'svc__coef0': 0, 'svc__degree': 2, 'svc__kernel': 'linear'}\n",
    "Best Score: 0.9817\n",
    "\n",
    "Model: extra_trees\n",
    "Best Parameters: {'extra_trees__max_features': 'sqrt', 'extra_trees__min_samples_split': 2, 'extra_trees__n_estimators': 200}\n",
    "Best Score: 0.9344\n",
    "\n",
    "Model: logistic_regression\n",
    "Best Parameters: {'logistic_regression__C': 10, 'logistic_regression__penalty': 'l2', 'logistic_regression__solver': 'saga'}\n",
    "Best Score: 0.9753\n",
    "\n",
    "Model: random_forest\n",
    "Best Parameters: {'random_forest__max_features': 'sqrt', 'random_forest__min_samples_split': 2, 'random_forest__n_estimators': 200}\n",
    "Best Score: 0.9394\n",
    "\n",
    "Model: k_neighbors\n",
    "Best Parameters: {'k_neighbors__n_neighbors': 3, 'k_neighbors__weights': 'distance'}\n",
    "Best Score: 0.9304"
   ]
  },
  {
   "cell_type": "markdown",
   "id": "8b3e8a80-5f34-4610-83d6-80481eb57a82",
   "metadata": {},
   "source": [
    "Now, with these parameters, we will train and evaluate the algorithms, but this time we will fine-tune the preprocessing tool. This is for two main reasons:\n",
    "\n",
    "    1. There might be a preprocessing tool that performs better with some algorithms.\n",
    "    2. We will use three algorithms, each with a different preprocessing tool, to gain a more sophisticated insight into the problem."
   ]
  },
  {
   "cell_type": "code",
   "execution_count": 270,
   "id": "4680a674-d46d-4562-96ab-2640f76b48cb",
   "metadata": {},
   "outputs": [
    {
     "name": "stdout",
     "output_type": "stream",
     "text": [
      "Fitting 5 folds for each of 1 candidates, totalling 5 fits\n",
      "Fitting 5 folds for each of 1 candidates, totalling 5 fits\n",
      "Fitting 5 folds for each of 1 candidates, totalling 5 fits\n",
      "Fitting 5 folds for each of 1 candidates, totalling 5 fits\n",
      "Fitting 5 folds for each of 1 candidates, totalling 5 fits\n",
      "Fitting 5 folds for each of 1 candidates, totalling 5 fits\n",
      "Fitting 5 folds for each of 1 candidates, totalling 5 fits\n",
      "Fitting 5 folds for each of 1 candidates, totalling 5 fits\n"
     ]
    },
    {
     "name": "stderr",
     "output_type": "stream",
     "text": [
      "/home/trancite/anaconda3/envs/cachine/lib/python3.11/site-packages/sklearn/linear_model/_sag.py:349: ConvergenceWarning: The max_iter was reached which means the coef_ did not converge\n",
      "  warnings.warn(\n",
      "/home/trancite/anaconda3/envs/cachine/lib/python3.11/site-packages/sklearn/linear_model/_sag.py:349: ConvergenceWarning: The max_iter was reached which means the coef_ did not converge\n",
      "  warnings.warn(\n",
      "/home/trancite/anaconda3/envs/cachine/lib/python3.11/site-packages/sklearn/linear_model/_sag.py:349: ConvergenceWarning: The max_iter was reached which means the coef_ did not converge\n",
      "  warnings.warn(\n",
      "/home/trancite/anaconda3/envs/cachine/lib/python3.11/site-packages/sklearn/linear_model/_sag.py:349: ConvergenceWarning: The max_iter was reached which means the coef_ did not converge\n",
      "  warnings.warn(\n",
      "/home/trancite/anaconda3/envs/cachine/lib/python3.11/site-packages/sklearn/linear_model/_sag.py:349: ConvergenceWarning: The max_iter was reached which means the coef_ did not converge\n",
      "  warnings.warn(\n",
      "/home/trancite/anaconda3/envs/cachine/lib/python3.11/site-packages/sklearn/linear_model/_sag.py:349: ConvergenceWarning: The max_iter was reached which means the coef_ did not converge\n",
      "  warnings.warn(\n"
     ]
    },
    {
     "name": "stdout",
     "output_type": "stream",
     "text": [
      "Fitting 5 folds for each of 1 candidates, totalling 5 fits\n",
      "Fitting 5 folds for each of 1 candidates, totalling 5 fits\n",
      "Fitting 5 folds for each of 1 candidates, totalling 5 fits\n",
      "Fitting 5 folds for each of 1 candidates, totalling 5 fits\n",
      "Fitting 5 folds for each of 1 candidates, totalling 5 fits\n",
      "Fitting 5 folds for each of 1 candidates, totalling 5 fits\n",
      "Fitting 5 folds for each of 1 candidates, totalling 5 fits\n",
      "Preprocessor: tfidf, Model: svc\n",
      "Best Parameters: {}\n",
      "Best F1 Score: 0.9838\n",
      "\n",
      "Preprocessor: tfidf, Model: extra_trees\n",
      "Best Parameters: {}\n",
      "Best F1 Score: 0.9841\n",
      "\n",
      "Preprocessor: tfidf, Model: logistic_regression\n",
      "Best Parameters: {}\n",
      "Best F1 Score: 0.9855\n",
      "\n",
      "Preprocessor: tfidf, Model: random_forest\n",
      "Best Parameters: {}\n",
      "Best F1 Score: 0.9816\n",
      "\n",
      "Preprocessor: tfidf, Model: k_neighbors\n",
      "Best Parameters: {}\n",
      "Best F1 Score: 0.7806\n",
      "\n",
      "Preprocessor: count, Model: svc\n",
      "Best Parameters: {}\n",
      "Best F1 Score: 0.9731\n",
      "\n",
      "Preprocessor: count, Model: extra_trees\n",
      "Best Parameters: {}\n",
      "Best F1 Score: 0.9812\n",
      "\n",
      "Preprocessor: count, Model: logistic_regression\n",
      "Best Parameters: {}\n",
      "Best F1 Score: 0.9241\n",
      "\n",
      "Preprocessor: count, Model: random_forest\n",
      "Best Parameters: {}\n",
      "Best F1 Score: 0.9820\n",
      "\n",
      "Preprocessor: count, Model: k_neighbors\n",
      "Best Parameters: {}\n",
      "Best F1 Score: 0.8897\n",
      "\n",
      "Preprocessor: hashing, Model: svc\n",
      "Best Parameters: {}\n",
      "Best F1 Score: 0.9710\n",
      "\n",
      "Preprocessor: hashing, Model: extra_trees\n",
      "Best Parameters: {}\n",
      "Best F1 Score: 0.9626\n",
      "\n",
      "Preprocessor: hashing, Model: logistic_regression\n",
      "Best Parameters: {}\n",
      "Best F1 Score: 0.9758\n",
      "\n",
      "Preprocessor: hashing, Model: random_forest\n",
      "Best Parameters: {}\n",
      "Best F1 Score: 0.9738\n",
      "\n",
      "Preprocessor: hashing, Model: k_neighbors\n",
      "Best Parameters: {}\n",
      "Best F1 Score: 0.9501\n",
      "\n"
     ]
    }
   ],
   "source": [
    "from sklearn.model_selection import train_test_split\n",
    "from sklearn.ensemble import RandomForestClassifier, ExtraTreesClassifier\n",
    "from sklearn.linear_model import LogisticRegression\n",
    "from sklearn.neighbors import KNeighborsClassifier\n",
    "from sklearn.svm import SVC\n",
    "from sklearn.metrics import make_scorer, f1_score\n",
    "\n",
    "f1_scorer = make_scorer(f1_score, average='weighted')\n",
    "\n",
    "X_train, X_test, Y_train, Y_test = train_test_split(df['cleaned_mails'], df['spam'], test_size=0.2, random_state=42)\n",
    "\n",
    "best_models = {\n",
    "    'svc': SVC(probability=True, C=1, coef0=0, degree=2, kernel='linear'),\n",
    "    'extra_trees': ExtraTreesClassifier(n_jobs=-1, random_state=42, max_features='sqrt', min_samples_split=2, n_estimators=200),\n",
    "    'logistic_regression': LogisticRegression(max_iter=1000, C=10, penalty='l2', solver='saga'),\n",
    "    'random_forest': RandomForestClassifier(n_jobs=-1, random_state=42, max_features='sqrt', min_samples_split=2, n_estimators=200),\n",
    "    'k_neighbors': KNeighborsClassifier(n_neighbors=3, weights='distance')\n",
    "}\n",
    "\n",
    "preprocessors = {\n",
    "    'tfidf': tfidf_vectorizer,\n",
    "    'count': count_vectorizer,\n",
    "    'hashing': hashing_vectorizer\n",
    "}\n",
    "\n",
    "# Define a parameter grid with no additional parameters (fixed parameters)\n",
    "param_grids = {\n",
    "    'svc': {},\n",
    "    'extra_trees': {},\n",
    "    'logistic_regression': {},\n",
    "    'random_forest': {},\n",
    "    'k_neighbors': {}\n",
    "}\n",
    "\n",
    "# Define f1_score as the scoring metric\n",
    "f1_scorer = make_scorer(f1_score, average='weighted')\n",
    "\n",
    "# Run GridSearchCV for each combination of preprocessor and model\n",
    "results = {}\n",
    "for preprocessor_name, preprocessor in preprocessors.items():\n",
    "    for model_name, model in best_models.items():\n",
    "        pipeline = Pipeline([\n",
    "            ('preprocessor', preprocessor),\n",
    "            (model_name, model)\n",
    "        ])\n",
    "        \n",
    "        param_grid = param_grids[model_name]\n",
    "        grid_search = GridSearchCV(pipeline, param_grid, cv=5, n_jobs=-1, scoring=f1_scorer, verbose=2)\n",
    "        grid_search.fit(X_train, Y_train)\n",
    "        \n",
    "        results[(preprocessor_name, model_name)] = {\n",
    "            'best_params': grid_search.best_params_,\n",
    "            'best_score': grid_search.best_score_\n",
    "        }\n",
    "\n",
    "# Print the results\n",
    "for (preprocessor_name, model_name), result in results.items():\n",
    "    print(f\"Preprocessor: {preprocessor_name}, Model: {model_name}\")\n",
    "    print(f\"Best Parameters: {result['best_params']}\")\n",
    "    print(f\"Best F1 Score: {result['best_score']:.4f}\")\n",
    "    print()\n",
    "\n"
   ]
  },
  {
   "cell_type": "markdown",
   "id": "c66fdcc7-27ef-4b1e-a2c5-5d2ce54c7b49",
   "metadata": {},
   "source": [
    "**My results**\n",
    "\n",
    "Preprocessor: tfidf, Model: svc\n",
    "Best F1 Score: 0.9838\n",
    "\n",
    "Preprocessor: tfidf, Model: extra_trees\n",
    "Best F1 Score: 0.9841\n",
    "\n",
    "Preprocessor: tfidf, Model: logistic_regression\n",
    "Best F1 Score: 0.9855\n",
    "\n",
    "Preprocessor: tfidf, Model: random_forest\n",
    "Best F1 Score: 0.9816\n",
    "\n",
    "Preprocessor: tfidf, Model: k_neighbors\n",
    "Best F1 Score: 0.7806\n",
    "\n",
    "Preprocessor: count, Model: svc\n",
    "Best F1 Score: 0.9731\n",
    "\n",
    "Preprocessor: count, Model: extra_trees\n",
    "Best F1 Score: 0.9812\n",
    "\n",
    "Preprocessor: count, Model: logistic_regression\n",
    "Best F1 Score: 0.9241\n",
    "\n",
    "Preprocessor: count, Model: random_forest\n",
    "Best F1 Score: 0.9820\n",
    "\n",
    "Preprocessor: count, Model: k_neighbors\n",
    "Best F1 Score: 0.8897\n",
    "\n",
    "Preprocessor: hashing, Model: svc\n",
    "Best F1 Score: 0.9710\n",
    "\n",
    "Preprocessor: hashing, Model: extra_trees\n",
    "Best F1 Score: 0.9626\n",
    "\n",
    "Preprocessor: hashing, Model: logistic_regression\n",
    "Best F1 Score: 0.9758\n",
    "\n",
    "Preprocessor: hashing, Model: random_forest\n",
    "Best F1 Score: 0.9738\n",
    "\n",
    "Preprocessor: hashing, Model: k_neighbors\n",
    "Best F1 Score: 0.9501\n",
    "\n",
    " "
   ]
  },
  {
   "cell_type": "markdown",
   "id": "a4995add-16df-4106-9d1e-5d7b2ea7294b",
   "metadata": {},
   "source": [
    "**Ensembling the models**"
   ]
  },
  {
   "cell_type": "markdown",
   "id": "0b38e728-5a9c-407d-b4c3-a7081ee5fac0",
   "metadata": {},
   "source": [
    "We need to choose three algorithms and assign a different preprocessing tool to each one. We do not want to select both Extra Trees Classifier and Random Forest Classifier because they are quite similar, and the goal is to achieve diverse insights. \n",
    "Therefore, the final selection will be:\n",
    "\n",
    "    Logistic Regression with tfidf_vectorizer\n",
    "    Random Forest Classifier with count_vectorizer\n",
    "    KNeighbors Classifier with hashing_vectorizer"
   ]
  },
  {
   "cell_type": "markdown",
   "id": "df10d4bb-e24f-41f2-a5b5-bb0200f8fdee",
   "metadata": {},
   "source": [
    "To ensemble the models, we will use the Voting Classifier method. This approach is both simple and effective. It aggregates the predictions from the three models and selects the most frequent class. Given that there are only three models, this might initially seem limited since there are only nine possible combinations. Therefore, we will use the 'soft' mode, which instead of selecting the most frequent class, sums the probabilities from each model and chooses the class with the highest probability."
   ]
  },
  {
   "cell_type": "code",
   "execution_count": 14,
   "id": "b139ae95-2cc6-43ea-b7f7-5c4e9fed6887",
   "metadata": {},
   "outputs": [],
   "source": [
    "from sklearn.ensemble import VotingClassifier\n",
    "from sklearn.metrics import classification_report\n",
    "from sklearn.model_selection import train_test_split\n",
    "\n",
    "# Define pipelines for each algorithm\n",
    "from sklearn.ensemble import VotingClassifier\n",
    "from sklearn.metrics import classification_report\n",
    "from sklearn.model_selection import train_test_split\n",
    "\n",
    "# Define pipelines for each algorithm\n",
    "\n",
    "# Pipeline for Logistic Regression with TF-IDF vectorizer\n",
    "pipeline1 = Pipeline([\n",
    "    ('preproc', tfidf_vectorizer),  #\n",
    "    ('log', LogisticRegression(max_iter=1000, C=10, penalty='l2', solver='liblinear'))  #\n",
    "])\n",
    "\n",
    "# Pipeline for Random Forest with Count Vectorizer\n",
    "pipeline2 = Pipeline([\n",
    "    ('preproc', count_vectorizer),  \n",
    "    ('rf', RandomForestClassifier(n_jobs=-1, random_state=42, max_features='sqrt', min_samples_split=5, n_estimators=200))  \n",
    "])\n",
    "\n",
    "# Pipeline for K-Neighbors Classifier with Hashing Vectorizer\n",
    "pipeline3 = Pipeline([\n",
    "    ('preproc', hashing_vectorizer),  \n",
    "    ('kn', KNeighborsClassifier(n_neighbors=3, weights='distance'))  \n",
    "])\n",
    "\n",
    "# Define the VotingClassifier\n",
    "voting_clf = VotingClassifier(\n",
    "    estimators=[  # List of models to be used in the voting classifier\n",
    "        ('logistic', pipeline1),  \n",
    "        ('rf', pipeline2),        \n",
    "        ('knn', pipeline3)        \n",
    "    ],\n",
    "    voting='soft'  # Use soft voting \n",
    ")\n",
    "\n",
    "\n",
    "# Split data\n",
    "X_train, X_val, Y_train, Y_val = train_test_split(df['cleaned_mails'], df['spam'], test_size=0.2, random_state=100)\n",
    "\n",
    "# Fit VotingClassifier\n",
    "voting_clf.fit(X_train, Y_train)\n",
    "\n",
    "# Predict probabilities and classification\n",
    "prediction_proba = voting_clf.predict_proba(X_val)\n",
    "predictions = voting_clf.predict(X_val)\n"
   ]
  },
  {
   "cell_type": "markdown",
   "id": "65f04a28-eea3-4ed0-9dab-1d2e19436859",
   "metadata": {},
   "source": [
    "Now that the final model is currently trained, we can validate it on the validation subset of our dataset"
   ]
  },
  {
   "cell_type": "code",
   "execution_count": 15,
   "id": "7b27c697-9ebf-4391-81fc-2407c0325c58",
   "metadata": {
    "scrolled": true
   },
   "outputs": [
    {
     "name": "stdout",
     "output_type": "stream",
     "text": [
      "              precision    recall  f1-score   support\n",
      "\n",
      "           0       0.99      1.00      0.99       846\n",
      "           1       0.99      0.96      0.98       293\n",
      "\n",
      "    accuracy                           0.99      1139\n",
      "   macro avg       0.99      0.98      0.98      1139\n",
      "weighted avg       0.99      0.99      0.99      1139\n",
      "\n"
     ]
    }
   ],
   "source": [
    "# Print classification report\n",
    "print(classification_report(Y_val, predictions))"
   ]
  },
  {
   "cell_type": "markdown",
   "id": "22116ff4-8f01-4e9b-a993-7cbb6c8a54b7",
   "metadata": {},
   "source": [
    "Wow! That is an outstanding performance. Each metric is close to perfection, and one of them has actually achieved it! However, not everything is perfect; there might be a potential issue.\n",
    "\n",
    "We have fine-tuned the model extensively, which may have caused some data leakage, even though the data was randomly split for each training session. Given the exceptional results, which seem too good to be true, we will proceed with an additional validation phase.\n"
   ]
  },
  {
   "cell_type": "markdown",
   "id": "26247262-4f5f-49ac-8f35-12802555a588",
   "metadata": {},
   "source": [
    "But before, let's have a look to the confusion matrix"
   ]
  },
  {
   "cell_type": "code",
   "execution_count": 16,
   "id": "f07ef79a-9185-4eab-84cc-d5ca719bd0ff",
   "metadata": {
    "scrolled": true
   },
   "outputs": [
    {
     "name": "stdout",
     "output_type": "stream",
     "text": [
      "Confusion Matrix:\n",
      "[[843   3]\n",
      " [ 11 282]]\n",
      "\n",
      "\n",
      "\n"
     ]
    },
    {
     "data": {
      "image/png": "[encoded data removed]",
      "text/plain": [
       "<Figure size 800x600 with 2 Axes>"
      ]
     },
     "metadata": {},
     "output_type": "display_data"
    }
   ],
   "source": [
    "from sklearn.metrics import confusion_matrix\n",
    "import matplotlib as mpl\n",
    "import matplotlib.pyplot as plt\n",
    "import numpy as np\n",
    "\n",
    "# Calculate the confusion matrix\n",
    "conf_matrix = confusion_matrix(Y_val, predictions)\n",
    "\n",
    "# Print the confusion matrix\n",
    "print(\"Confusion Matrix:\")\n",
    "print(conf_matrix)\n",
    "print(\"\\n\\n\")\n",
    "# Normalize the confusion matrix\n",
    "conf_matrix = conf_matrix.astype(float)\n",
    "row_sums = np.maximum(conf_matrix.sum(axis=1), 1)\n",
    "conf_matrix /= row_sums[:, np.newaxis]\n",
    "\n",
    "# Show the normalized confusion matrix\n",
    "plt.figure(figsize=(8, 6))\n",
    "plt.imshow(conf_matrix, cmap='Blues', interpolation='nearest')  \n",
    "plt.title('Confusion Matrix')\n",
    "plt.colorbar()  \n",
    "plt.xlabel('Predicted labels')\n",
    "plt.ylabel('True labels')\n",
    "plt.xticks(ticks=[0, 1], labels=['Ham', 'Spam']) \n",
    "plt.yticks(ticks=[0, 1], labels=['Ham', 'Spam'])  \n",
    "plt.show()"
   ]
  },
  {
   "cell_type": "markdown",
   "id": "ba5a9441-56a1-47f6-afd8-f5cb8506784d",
   "metadata": {},
   "source": [
    "**Final Boss: Testing in a totally new database**"
   ]
  },
  {
   "cell_type": "markdown",
   "id": "723fc56c-573a-4157-82df-53137ff1430f",
   "metadata": {},
   "source": [
    "It is common practice in machine/deep learning to split the dataset into two subsets: the validation set and the training set. However, it is usually recommended to actually split the dataset into three sets: the training set, the validation set, and the test set. This helps to avoid potential overfitting that can occur with excessive fine-tuning of the model.\n",
    "\n",
    "In this case, we will take a more intensive approach. Instead of simply creating an additional set, we will use a completely separate dataset. This approach has a few potential issues. Firstly, the new dataset might have a different format. Secondly, it might contain some instances that overlap with the original dataset. To address these concerns, we will clean the text and check for any intersections between the two datasets."
   ]
  },
  {
   "cell_type": "markdown",
   "id": "bb42c11b-aa89-46dc-aff2-9b65d4f88c00",
   "metadata": {},
   "source": [
    "First of all, we load the dataset"
   ]
  },
  {
   "cell_type": "code",
   "execution_count": 275,
   "id": "dec56041-bef5-4804-9d77-66e2d9fd7207",
   "metadata": {},
   "outputs": [
    {
     "name": "stdout",
     "output_type": "stream",
     "text": [
      "[CV] END .................................................... total time=   1.8s\n",
      "[CV] END .................................................... total time=   1.7s\n",
      "[CV] END .................................................... total time=   5.0s\n",
      "[CV] END .................................................... total time=   3.7s\n",
      "[CV] END .................................................... total time=   8.5s\n",
      "[CV] END .................................................... total time=   0.5s\n",
      "[CV] END .................................................... total time=   1.7s\n",
      "[CV] END .................................................... total time=   1.8s\n",
      "[CV] END .................................................... total time=   5.0s\n",
      "[CV] END .................................................... total time=   5.3s\n",
      "[CV] END .................................................... total time=   2.6s\n",
      "[CV] END .................................................... total time=   0.5s\n",
      "[CV] END .................................................... total time=   4.6s\n",
      "[CV] END .................................................... total time=   0.5s\n",
      "[CV] END .................................................... total time=   0.5s\n",
      "[CV] END .................................................... total time=   3.8s\n",
      "[CV] END .................................................... total time=   2.6s\n",
      "[CV] END .................................................... total time=   2.6s\n",
      "[CV] END .................................................... total time=   2.0s\n",
      "[CV] END .................................................... total time=   4.7s\n",
      "[CV] END .................................................... total time=   1.8s\n",
      "[CV] END .................................................... total time=   3.8s\n",
      "[CV] END .................................................... total time=   3.7s\n",
      "[CV] END .................................................... total time=   2.6s\n",
      "[CV] END .................................................... total time=   2.0s\n",
      "[CV] END .................................................... total time=   4.7s\n",
      "[CV] END .................................................... total time=   1.7s\n",
      "[CV] END .................................................... total time=   5.0s\n",
      "[CV] END .................................................... total time=   3.6s\n",
      "[CV] END .................................................... total time=   8.6s\n",
      "[CV] END .................................................... total time=   2.1s\n",
      "[CV] END .................................................... total time=   4.6s\n",
      "[CV] END .................................................... total time=   0.5s\n",
      "[CV] END .................................................... total time=   0.5s\n",
      "[CV] END .................................................... total time=   5.4s\n",
      "[CV] END .................................................... total time=   8.7s\n",
      "[CV] END .................................................... total time=   2.1s\n",
      "[CV] END .................................................... total time=   0.4s\n",
      "[CV] END .................................................... total time=   4.9s\n",
      "[CV] END .................................................... total time=   5.3s\n",
      "[CV] END .................................................... total time=   2.6s\n",
      "[CV] END .................................................... total time=   2.6s\n",
      "[CV] END .................................................... total time=   2.1s\n",
      "[CV] END .................................................... total time=   1.8s\n",
      "[CV] END .................................................... total time=   0.5s\n",
      "[CV] END .................................................... total time=   3.7s\n",
      "[CV] END .................................................... total time=   3.6s\n",
      "[CV] END .................................................... total time=   8.5s\n",
      "[CV] END .................................................... total time=   0.5s\n",
      "[CV] END .................................................... total time=   0.5s\n",
      "[CV] END .................................................... total time=   0.5s\n",
      "[CV] END .................................................... total time=   4.9s\n",
      "[CV] END .................................................... total time=   5.3s\n",
      "[CV] END .................................................... total time=   2.5s\n",
      "[CV] END .................................................... total time=   2.6s\n",
      "[CV] END .................................................... total time=   0.5s\n",
      "[CV] END .................................................... total time=   4.6s\n",
      "[CV] END .................................................... total time=   0.5s\n",
      "[CV] END .................................................... total time=   0.5s\n",
      "[CV] END .................................................... total time=   5.4s\n",
      "[CV] END .................................................... total time=   8.3s\n",
      "[CV] END .................................................... total time=   0.5s\n",
      "[CV] END .................................................... total time=   0.5s\n",
      "[CV] END .................................................... total time=   1.7s\n",
      "[CV] END .................................................... total time=   1.8s\n",
      "[CV] END .................................................... total time=   3.8s\n",
      "[CV] END .................................................... total time=   2.6s\n",
      "[CV] END .................................................... total time=   0.5s\n",
      "[CV] END .................................................... total time=   0.5s\n",
      "[CV] END .................................................... total time=   1.8s\n",
      "[CV] END .................................................... total time=   0.5s\n",
      "[CV] END .................................................... total time=   3.8s\n",
      "[CV] END .................................................... total time=   3.7s\n",
      "[CV] END .................................................... total time=   2.7s\n",
      "[CV] END .................................................... total time=   0.5s\n"
     ]
    }
   ],
   "source": [
    "path_test = \"/home/trancite/Desktop/Spam/archive_2/spam_ham_dataset.csv\"\n",
    "df2 = pd.read_csv(path_test)\n",
    "\n",
    "df2['text'] = df2['text'].apply(remove_first_word)\n",
    "cleaner = TextCleaner()\n",
    "df2['cleaned_mails'] = df2['text'].apply(cleaner.clean)\n"
   ]
  },
  {
   "cell_type": "markdown",
   "id": "473610ae-3549-46a0-9623-f0e9fe6b035d",
   "metadata": {},
   "source": [
    "With the dataset cleaned, we evaluate our model on ALL the instances"
   ]
  },
  {
   "cell_type": "code",
   "execution_count": 288,
   "id": "219645b1-d3dd-4d68-b6ba-eea4a6df68a0",
   "metadata": {},
   "outputs": [],
   "source": [
    "#here we are deleting the mails that are in both datasets\n",
    "common_rows = df2.merge(df, how='inner')\n",
    "df2 = df2[~df2.index.isin(common_rows.index)]\n",
    "df2.reset_index(drop=True, inplace=True)"
   ]
  },
  {
   "cell_type": "code",
   "execution_count": 289,
   "id": "bc506298-caa9-4134-ae94-879c845f0430",
   "metadata": {},
   "outputs": [],
   "source": [
    "X_test = df2['cleaned_mails']\n",
    "Y_test = np.array(df2['label_num']).astype(int)\n",
    "predictions_test = voting_clf.predict(X_test)"
   ]
  },
  {
   "cell_type": "markdown",
   "id": "a7e743e1-bf23-44c4-8de6-ac78fd969ce1",
   "metadata": {},
   "source": [
    "And now, the moment we've been waiting for: we'll see if our model is just an overfitted machine or if it can actually generalize."
   ]
  },
  {
   "cell_type": "code",
   "execution_count": 290,
   "id": "9c8d40bb-c357-42be-8c05-6dd15b5b350e",
   "metadata": {
    "scrolled": true
   },
   "outputs": [
    {
     "name": "stdout",
     "output_type": "stream",
     "text": [
      "              precision    recall  f1-score   support\n",
      "\n",
      "           0       0.92      0.95      0.93      3658\n",
      "           1       0.87      0.78      0.83      1493\n",
      "\n",
      "    accuracy                           0.90      5151\n",
      "   macro avg       0.89      0.87      0.88      5151\n",
      "weighted avg       0.90      0.90      0.90      5151\n",
      "\n"
     ]
    }
   ],
   "source": [
    "print(classification_report(Y_test, predictions_test))\n"
   ]
  },
  {
   "cell_type": "markdown",
   "id": "d08d090a-f1c6-4288-afe9-c8b46c4965dd",
   "metadata": {},
   "source": [
    "This is impressive! Although the performance is slightly worse compared to our previous validation set, which might indicate some overfitting during fine-tuning or shared features in the emails from the other dataset, these results are still outstanding, especially considering that this dataset contains entirely new instances for our model.\n",
    "\n",
    "Most metrics are close to 0.9, which is excellent. However, there is one slight concern: the recall for the spam label is around 0.78. This \"lower\" (yet still good) recall suggests that the model occasionally misclassifies spam emails as ham."
   ]
  },
  {
   "cell_type": "markdown",
   "id": "21fb0581-f8a5-4ac8-ab66-127b573483f8",
   "metadata": {},
   "source": [
    "Another time, we are going to see the confusion matrix"
   ]
  },
  {
   "cell_type": "code",
   "execution_count": 304,
   "id": "71439a6a-4379-49a9-acbc-7129ce00152f",
   "metadata": {},
   "outputs": [
    {
     "name": "stdout",
     "output_type": "stream",
     "text": [
      "Confusion Matrix:\n",
      "[[3489  169]\n",
      " [ 321 1172]]\n",
      "Confusion Matrix:\n",
      "[[3489  169]\n",
      " [ 321 1172]]\n",
      "\n",
      "\n",
      "\n"
     ]
    },
    {
     "data": {
      "image/png": "[encoded data removed]",
      "text/plain": [
       "<Figure size 800x600 with 2 Axes>"
      ]
     },
     "metadata": {},
     "output_type": "display_data"
    }
   ],
   "source": [
    "from sklearn.metrics import confusion_matrix\n",
    "conf_matrix = confusion_matrix(Y_test, predictions_test)\n",
    "print(\"Confusion Matrix:\")\n",
    "print(conf_matrix)\n",
    "\n",
    "# Print the confusion matrix\n",
    "print(\"Confusion Matrix:\")\n",
    "print(conf_matrix)\n",
    "print(\"\\n\\n\")\n",
    "# Normalize the confusion matrix\n",
    "conf_matrix = conf_matrix.astype(float)\n",
    "row_sums = np.maximum(conf_matrix.sum(axis=1), 1)\n",
    "conf_matrix /= row_sums[:, np.newaxis]\n",
    "\n",
    "# Show the normalized confusion matrix\n",
    "plt.figure(figsize=(8, 6))\n",
    "plt.imshow(conf_matrix, cmap='Blues', interpolation='nearest')  \n",
    "plt.title('Confusion Matrix')\n",
    "plt.colorbar()  \n",
    "plt.xlabel('Predicted labels')\n",
    "plt.ylabel('True labels')\n",
    "plt.xticks(ticks=[0, 1], labels=['Ham', 'Spam']) \n",
    "plt.yticks(ticks=[0, 1], labels=['Ham', 'Spam'])  \n",
    "plt.show()"
   ]
  },
  {
   "cell_type": "markdown",
   "id": "df9c6fe1-0586-4ce2-a4bc-493e8882a700",
   "metadata": {},
   "source": [
    "And that’s all! Thank you very much for your time, and I welcome any suggestions or comments you may have! If anyone has questions or is interested in collaborating on more deep learning, machine learning, or data science projects, feel free to reach out—my contact info is in my profile!"
   ]
  },
  {
   "cell_type": "code",
   "execution_count": null,
   "id": "3ec2b5c2-babf-48ac-a60b-0068b6e570da",
   "metadata": {},
   "outputs": [],
   "source": []
  }
 ],
 "metadata": {
  "kernelspec": {
   "display_name": "Python 3 (ipykernel)",
   "language": "python",
   "name": "python3"
  },
  "language_info": {
   "codemirror_mode": {
    "name": "ipython",
    "version": 3
   },
   "file_extension": ".py",
   "mimetype": "text/x-python",
   "name": "python",
   "nbconvert_exporter": "python",
   "pygments_lexer": "ipython3",
   "version": "3.11.5"
  }
 },
 "nbformat": 4,
 "nbformat_minor": 5
}
